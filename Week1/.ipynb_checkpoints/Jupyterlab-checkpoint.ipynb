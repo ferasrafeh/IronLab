{
 "cells": [
  {
   "cell_type": "markdown",
   "id": "66b8c3fe",
   "metadata": {},
   "source": [
    "# Holiday Preference"
   ]
  },
  {
   "cell_type": "markdown",
   "id": "be1e5b91",
   "metadata": {},
   "source": [
    "### In this notebook, I will be stating where I would like to go on holiday with a picture and a link of this holiday preference."
   ]
  },
  {
   "cell_type": "markdown",
   "id": "c6dea605",
   "metadata": {},
   "source": [
    "## Getting the name"
   ]
  },
  {
   "cell_type": "markdown",
   "id": "e79fe72d",
   "metadata": {},
   "source": [
    "I will use here the input function to retrieve the name of the person. Store it in a variable called \"x\" and then print it."
   ]
  },
  {
   "cell_type": "code",
   "execution_count": 6,
   "id": "e5883dc2",
   "metadata": {},
   "outputs": [
    {
     "name": "stdout",
     "output_type": "stream",
     "text": [
      "Name: Feras\n",
      "My name is Feras\n"
     ]
    }
   ],
   "source": [
    "x = input(\"Name: \")\n",
    "print (\"My name is\", x)"
   ]
  },
  {
   "cell_type": "markdown",
   "id": "b38c6f53",
   "metadata": {},
   "source": [
    "## *A picture of Feras*"
   ]
  },
  {
   "attachments": {},
   "cell_type": "markdown",
   "id": "7353295f",
   "metadata": {},
   "source": [
    "<div>\n",
    "<img src=\"attachment:picture1.png\" width=\"500\"/>\n",
    "</div>"
   ]
  },
  {
   "cell_type": "markdown",
   "id": "cd129390",
   "metadata": {},
   "source": [
    "### **This is a picture of the desired holiday destination: Brazil, Rio de Janeiro**"
   ]
  },
  {
   "attachments": {
    "download.jpeg": {
     "image/jpeg": "[encoded data removed]"
    }
   },
   "cell_type": "markdown",
   "id": "87588c5a",
   "metadata": {},
   "source": [
    "![download.jpeg](attachment:download.jpeg)"
   ]
  },
  {
   "cell_type": "markdown",
   "id": "33d249d2",
   "metadata": {},
   "source": [
    "## Things to do"
   ]
  },
  {
   "cell_type": "markdown",
   "id": "bf1290c9",
   "metadata": {},
   "source": [
    "*Top three things I would like to do there:*\n",
    "- Go to the Carnival\n",
    "- Spending lots of time at the beach\n",
    "- Reconnecting with nature"
   ]
  },
  {
   "cell_type": "markdown",
   "id": "e34e0660",
   "metadata": {},
   "source": [
    "## Video to Watch"
   ]
  },
  {
   "cell_type": "markdown",
   "id": "8a6a6cd0",
   "metadata": {},
   "source": [
    "### **Here's a small [video](https://www.youtube.com/watch?v=fA7kQn-l6T4) showing the beauty of Rio de Janeiro**"
   ]
  }
 ],
 "metadata": {
  "kernelspec": {
   "display_name": "Python 3 (ipykernel)",
   "language": "python",
   "name": "python3"
  },
  "language_info": {
   "codemirror_mode": {
    "name": "ipython",
    "version": 3
   },
   "file_extension": ".py",
   "mimetype": "text/x-python",
   "name": "python",
   "nbconvert_exporter": "python",
   "pygments_lexer": "ipython3",
   "version": "3.10.9"
  }
 },
 "nbformat": 4,
 "nbformat_minor": 5
}
