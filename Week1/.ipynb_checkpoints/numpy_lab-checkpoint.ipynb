{
 "cells": [
  {
   "cell_type": "code",
   "execution_count": 2,
   "id": "7d5449f4",
   "metadata": {},
   "outputs": [],
   "source": [
    "# 1. Import the numpy package under the name np (★☆☆)\n",
    "\n",
    "import numpy as np"
   ]
  },
  {
   "cell_type": "code",
   "execution_count": 2,
   "id": "c3a139a7",
   "metadata": {},
   "outputs": [
    {
     "name": "stdout",
     "output_type": "stream",
     "text": [
      "[0. 0. 0. 0. 0. 0. 0. 0. 0. 0.]\n"
     ]
    }
   ],
   "source": [
    "# 2. Create a null vector of size 10 (★☆☆)\n",
    "\n",
    "x = np.zeros(10)\n",
    "print(x)"
   ]
  },
  {
   "cell_type": "code",
   "execution_count": 7,
   "id": "39a4bd38",
   "metadata": {},
   "outputs": [
    {
     "name": "stdout",
     "output_type": "stream",
     "text": [
      "[0. 0. 0. 0. 1. 0. 0. 0. 0. 0.]\n"
     ]
    }
   ],
   "source": [
    "# 3. Create a null vector of size 10 but the fifth value which is 1 (★☆☆)\n",
    "\n",
    "y = np.zeros(10)\n",
    "y[4]=1\n",
    "\n",
    "print (y)"
   ]
  },
  {
   "cell_type": "code",
   "execution_count": 14,
   "id": "67d0f4e4",
   "metadata": {},
   "outputs": [
    {
     "name": "stdout",
     "output_type": "stream",
     "text": [
      "[10 11 12 13 14 15 16 17 18 19 20 21 22 23 24 25 26 27 28 29 30 31 32 33\n",
      " 34 35 36 37 38 39 40 41 42 43 44 45 46 47 48 49]\n"
     ]
    }
   ],
   "source": [
    "# 4. Create a vector with values ranging from 10 to 49 (★☆☆)\n",
    "\n",
    "z = np.arange(10,50)\n",
    "\n",
    "print(z)"
   ]
  },
  {
   "cell_type": "code",
   "execution_count": 15,
   "id": "409f57b4",
   "metadata": {},
   "outputs": [
    {
     "name": "stdout",
     "output_type": "stream",
     "text": [
      "[[0 1 2]\n",
      " [3 4 5]\n",
      " [6 7 8]]\n"
     ]
    }
   ],
   "source": [
    "# 5. Create a 3x3 matrix with values ranging from 0 to 8 (★☆☆)\n",
    "\n",
    "p = np.arange(0,9).reshape(3,3)\n",
    "\n",
    "print(p)"
   ]
  },
  {
   "cell_type": "code",
   "execution_count": 16,
   "id": "a7e02c14",
   "metadata": {},
   "outputs": [
    {
     "name": "stdout",
     "output_type": "stream",
     "text": [
      "(array([0, 1, 4], dtype=int64),)\n"
     ]
    }
   ],
   "source": [
    "# 6. Find indices of non-zero elements from [1,2,0,0,4,0] (★☆☆)\n",
    "\n",
    "m = [1,2,0,0,4,0] \n",
    "\n",
    "n = np.nonzero(m)\n",
    "\n",
    "print(n)"
   ]
  },
  {
   "cell_type": "code",
   "execution_count": 18,
   "id": "7e23517e",
   "metadata": {},
   "outputs": [
    {
     "name": "stdout",
     "output_type": "stream",
     "text": [
      "[[1. 0. 0.]\n",
      " [0. 1. 0.]\n",
      " [0. 0. 1.]]\n"
     ]
    }
   ],
   "source": [
    "# 7. Create a 3x3 identity matrix (★☆☆)\n",
    "\n",
    "l = np.eye(3,3)\n",
    "print(l)"
   ]
  },
  {
   "cell_type": "code",
   "execution_count": 21,
   "id": "b572e1ea",
   "metadata": {},
   "outputs": [
    {
     "name": "stdout",
     "output_type": "stream",
     "text": [
      "[[[0.67425774 0.82181413 0.20670113]\n",
      "  [0.35662327 0.02988969 0.57360987]\n",
      "  [0.32891767 0.62172227 0.78401279]]\n",
      "\n",
      " [[0.98333933 0.00635043 0.96102216]\n",
      "  [0.99508056 0.71507169 0.15026032]\n",
      "  [0.13384156 0.75502676 0.16195045]]\n",
      "\n",
      " [[0.07369842 0.64629997 0.28656766]\n",
      "  [0.17380404 0.61299294 0.82869762]\n",
      "  [0.26460938 0.25935386 0.16931598]]]\n"
     ]
    }
   ],
   "source": [
    "# 8. Create a 3x3x3 array with random values (★☆☆)\n",
    "\n",
    "c = np.random.random((3,3,3))\n",
    "print(c)"
   ]
  },
  {
   "cell_type": "code",
   "execution_count": 29,
   "id": "985288c9",
   "metadata": {},
   "outputs": [
    {
     "name": "stdout",
     "output_type": "stream",
     "text": [
      "Min: 0.011831688158156384 \n",
      " Max 0.9530783871360279\n"
     ]
    }
   ],
   "source": [
    "# 9. Create a 10x10 array with random values and find the minimum and maximum values (★☆☆)\n",
    "\n",
    "d = np.random.random((10,10))\n",
    "\n",
    "print(\"Min:\",d.min(),\"\\n\",\"Max\",d.max())"
   ]
  },
  {
   "cell_type": "code",
   "execution_count": 8,
   "id": "62b442c5",
   "metadata": {},
   "outputs": [
    {
     "name": "stdout",
     "output_type": "stream",
     "text": [
      "0.47115961040176335\n"
     ]
    }
   ],
   "source": [
    "# 10. Create a random vector of size 30 and find the mean value (★☆☆)\n",
    "\n",
    "rand = np.random.random(30)\n",
    "rand_mean = np.mean(rand)\n",
    "\n",
    "print(rand_mean)"
   ]
  },
  {
   "cell_type": "code",
   "execution_count": 12,
   "id": "76f42237",
   "metadata": {},
   "outputs": [
    {
     "name": "stdout",
     "output_type": "stream",
     "text": [
      "[[0 0 0 0 0]\n",
      " [1 0 0 0 0]\n",
      " [0 2 0 0 0]\n",
      " [0 0 3 0 0]\n",
      " [0 0 0 4 0]]\n"
     ]
    }
   ],
   "source": [
    "# 11. Create a 5x5 matrix with values 1,2,3,4 just below the diagonal (★☆☆)\n",
    "\n",
    "ran = np.diag([1,2,3,4],-1)\n",
    "\n",
    "print(ran)"
   ]
  },
  {
   "cell_type": "code",
   "execution_count": 28,
   "id": "0b5d8c91",
   "metadata": {},
   "outputs": [
    {
     "name": "stdout",
     "output_type": "stream",
     "text": [
      "[[ 0.16205585 -1.73496756  0.95215124 -0.04722124  0.5390547 ]\n",
      " [ 0.50064872  1.31625395  0.9889647  -2.03072248  1.20065927]\n",
      " [-0.66358546  1.3036385  -1.01594435  0.50673343  0.79855005]\n",
      " [-0.48086018  0.39956271  1.23000786 -1.55154349 -1.28515848]\n",
      " [ 0.47697604 -1.06458929  0.21888621  0.1602244  -0.87977511]]\n"
     ]
    }
   ],
   "source": [
    "# 12. Normalize a 5x5 random matrix (★☆☆)\n",
    "\n",
    "ran = np.random.random((5,5))\n",
    "mean = np.mean(ran)\n",
    "stand = np.std(ran)\n",
    "\n",
    "ran_1 = (ran-mean)/stand\n",
    "print(ran_1)\n"
   ]
  },
  {
   "cell_type": "code",
   "execution_count": 29,
   "id": "6c0db907",
   "metadata": {},
   "outputs": [
    {
     "name": "stdout",
     "output_type": "stream",
     "text": [
      "[1 5 6]\n"
     ]
    }
   ],
   "source": [
    "# 13. How to find common values between two arrays? (★☆☆)\n",
    "\n",
    "array = [1,2,3,4,5,6,7]\n",
    "array_1 = [1,12,34,6,87,9,5]\n",
    "\n",
    "inter = np.intersect1d(array,array_1)\n",
    "\n",
    "print(inter)"
   ]
  },
  {
   "cell_type": "code",
   "execution_count": 38,
   "id": "1340983e",
   "metadata": {},
   "outputs": [
    {
     "name": "stdout",
     "output_type": "stream",
     "text": [
      "[0.03577371 0.16134468 0.17677453 0.37022736 0.51441617 0.5406696\n",
      " 0.57921823 0.89111134 0.91063645 0.94169624]\n"
     ]
    }
   ],
   "source": [
    "# 14. Create a random vector of size 10 and sort it (★★☆)\n",
    "\n",
    "vec = np.random.random(10)\n",
    "print(np.sort(vec))"
   ]
  },
  {
   "cell_type": "code",
   "execution_count": 49,
   "id": "0c4966b1",
   "metadata": {},
   "outputs": [
    {
     "name": "stdout",
     "output_type": "stream",
     "text": [
      "[0.28504085 0.37041666 0.27156501 0.30496728 0.         0.20140172\n",
      " 0.77052214 0.04048805 0.0097517  0.36595741]\n"
     ]
    }
   ],
   "source": [
    "# 15. Create random vector of size 10 and replace the maximum value by 0 (★★☆)\n",
    "\n",
    "vc = np.random.random(10)\n",
    "vc[vc.argmax()]=0\n",
    "\n",
    "print(vc)"
   ]
  },
  {
   "cell_type": "code",
   "execution_count": 75,
   "id": "79fae5db",
   "metadata": {},
   "outputs": [
    {
     "name": "stdout",
     "output_type": "stream",
     "text": [
      "[[-1.  0.  1.]\n",
      " [-1.  0.  1.]\n",
      " [-1.  0.  1.]]\n"
     ]
    }
   ],
   "source": [
    "# 16. Subtract the mean of each row of a matrix (★★☆)\n",
    "\n",
    "x = np.array([[1,2,3],[3,4,5],[5,6,7]])\n",
    "\n",
    "y = np.mean(x, axis=1, keepdims=True)\n",
    "\n",
    "print(x-y)"
   ]
  },
  {
   "cell_type": "code",
   "execution_count": 92,
   "id": "f477d5c3",
   "metadata": {},
   "outputs": [
    {
     "name": "stdout",
     "output_type": "stream",
     "text": [
      "[9995 9996 9997 9998 9999]\n"
     ]
    }
   ],
   "source": [
    "# 17. How to get the n largest values of an array (★★★)\n",
    "\n",
    "Z = np.arange(10000) \n",
    "np.random.shuffle(Z) \n",
    "n = 5\n",
    "\n",
    "y = np.argsort(Z)\n",
    "\n",
    "print(Z[y[-n:]])"
   ]
  },
  {
   "cell_type": "code",
   "execution_count": 5,
   "id": "1414f19d",
   "metadata": {},
   "outputs": [
    {
     "name": "stdout",
     "output_type": "stream",
     "text": [
      "[[7 4 1]\n",
      " [2 9 5]\n",
      " [5 9 3]\n",
      " [3 9 1]\n",
      " [6 5 9]]\n",
      "[[49  4  1]\n",
      " [ 2 81 25]\n",
      " [25 81  3]\n",
      " [ 3 81  1]\n",
      " [36 25 81]]\n"
     ]
    }
   ],
   "source": [
    "# 18. Create a random 5*3 matrix and replace items that are larger than 4 by their squares ( Example: 6 --> 36)\n",
    "\n",
    "x = np.random.randint(1,10,(5,3))\n",
    "\n",
    "print(x)\n",
    "\n",
    "y = np.where(x>4,x**2,x)\n",
    "\n",
    "print(y)"
   ]
  }
 ],
 "metadata": {
  "kernelspec": {
   "display_name": "Python 3 (ipykernel)",
   "language": "python",
   "name": "python3"
  },
  "language_info": {
   "codemirror_mode": {
    "name": "ipython",
    "version": 3
   },
   "file_extension": ".py",
   "mimetype": "text/x-python",
   "name": "python",
   "nbconvert_exporter": "python",
   "pygments_lexer": "ipython3",
   "version": "3.10.9"
  }
 },
 "nbformat": 4,
 "nbformat_minor": 5
}
