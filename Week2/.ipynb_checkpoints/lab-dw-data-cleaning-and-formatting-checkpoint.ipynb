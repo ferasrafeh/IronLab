{
 "cells": [
  {
   "cell_type": "code",
   "execution_count": 9,
   "id": "27604736",
   "metadata": {},
   "outputs": [],
   "source": [
    "import pandas as pd\n",
    "\n",
    "df = pd.read_csv(\"https://raw.githubusercontent.com/data-bootcamp-v4/data/main/file1.csv\")"
   ]
  },
  {
   "cell_type": "code",
   "execution_count": 2,
   "id": "cc93f8ef",
   "metadata": {},
   "outputs": [
    {
     "data": {
      "text/plain": [
       "Index(['Customer', 'ST', 'GENDER', 'Education', 'Customer Lifetime Value',\n",
       "       'Income', 'Monthly Premium Auto', 'Number of Open Complaints',\n",
       "       'Policy Type', 'Vehicle Class', 'Total Claim Amount'],\n",
       "      dtype='object')"
      ]
     },
     "execution_count": 2,
     "metadata": {},
     "output_type": "execute_result"
    }
   ],
   "source": [
    "df.columns"
   ]
  },
  {
   "cell_type": "markdown",
   "id": "3bd485da",
   "metadata": {},
   "source": [
    "1. **Rename ST to state to make it more descriptive, also GENDER to gender to avoid errors.**\n",
    "2. **Put all columns names in lower case.**"
   ]
  },
  {
   "cell_type": "code",
   "execution_count": 3,
   "id": "0bf5a4f7",
   "metadata": {},
   "outputs": [],
   "source": [
    "df = df.rename(columns={\"GENDER\":\"gender\",\"ST\":\"state\",\"Customer Lifetime Value\":\"customer_lifetime_value\",\n",
    "                       \"Number of Open Complaints\":\"nb_of_open_complaints\",\"Policy Type\":\"policy_type\",\n",
    "                       \"Monthly Premium Auto\":\"monthly_premium_auto\",\"Vehicle Class\":\"vehicle_class\",\n",
    "                       \"Total Claim Amount\":\"total_claim_amount\"})"
   ]
  },
  {
   "cell_type": "code",
   "execution_count": 4,
   "id": "b1d89c23",
   "metadata": {},
   "outputs": [],
   "source": [
    "df.columns = [i.lower() for i in df.columns]"
   ]
  },
  {
   "cell_type": "code",
   "execution_count": 5,
   "id": "3b60b11e",
   "metadata": {},
   "outputs": [
    {
     "data": {
      "text/plain": [
       "array([nan, 'F', 'M', 'Femal', 'Male', 'female'], dtype=object)"
      ]
     },
     "execution_count": 5,
     "metadata": {},
     "output_type": "execute_result"
    }
   ],
   "source": [
    "df[\"gender\"].unique()"
   ]
  },
  {
   "cell_type": "markdown",
   "id": "373fce7a",
   "metadata": {},
   "source": [
    "**female should be replaced by F, Male by M, and Femal by F.**"
   ]
  },
  {
   "cell_type": "code",
   "execution_count": 6,
   "id": "bf6d658a",
   "metadata": {},
   "outputs": [],
   "source": [
    "df[\"gender\"] = df[\"gender\"].replace({\"Femal\":\"F\",\"Male\":\"M\",\"female\":\"F\"})"
   ]
  },
  {
   "cell_type": "code",
   "execution_count": 7,
   "id": "51874ac6",
   "metadata": {},
   "outputs": [
    {
     "data": {
      "text/plain": [
       "array(['Washington', 'Arizona', 'Nevada', 'California', 'Oregon', 'Cali',\n",
       "       'AZ', 'WA', nan], dtype=object)"
      ]
     },
     "execution_count": 7,
     "metadata": {},
     "output_type": "execute_result"
    }
   ],
   "source": [
    "df[\"state\"].unique()"
   ]
  },
  {
   "cell_type": "markdown",
   "id": "e77386ad",
   "metadata": {},
   "source": [
    "**Washington should be replaced by WA, Arizona by AZ, California by Cali, Neveda by Nev, Oregon by Org**"
   ]
  },
  {
   "cell_type": "code",
   "execution_count": 8,
   "id": "377969a1",
   "metadata": {},
   "outputs": [],
   "source": [
    "df[\"state\"] = df[\"state\"].replace({\"Washington\":\"WA\",\"Arizona\":\"AZ\",\"California\":\"Cali\",\"Nevada\":\"Nev\",\"Oregon\":\"Org\"})"
   ]
  },
  {
   "cell_type": "code",
   "execution_count": 9,
   "id": "83f4e636",
   "metadata": {},
   "outputs": [
    {
     "data": {
      "text/plain": [
       "array(['Master', 'Bachelor', 'High School or Below', 'College',\n",
       "       'Bachelors', 'Doctor', nan], dtype=object)"
      ]
     },
     "execution_count": 9,
     "metadata": {},
     "output_type": "execute_result"
    }
   ],
   "source": [
    "df[\"education\"].unique()"
   ]
  },
  {
   "cell_type": "markdown",
   "id": "c192e355",
   "metadata": {},
   "source": [
    "**Column Education needs cleaning since Bachlor and Bachelors are the same**"
   ]
  },
  {
   "cell_type": "code",
   "execution_count": 10,
   "id": "18bdec97",
   "metadata": {},
   "outputs": [],
   "source": [
    "df[\"education\"] = df[\"education\"].replace(\"Bachelor\",\"Bachelors\")"
   ]
  },
  {
   "cell_type": "code",
   "execution_count": 11,
   "id": "e825854e",
   "metadata": {},
   "outputs": [
    {
     "data": {
      "text/plain": [
       "customer                    object\n",
       "state                       object\n",
       "gender                      object\n",
       "education                   object\n",
       "customer_lifetime_value     object\n",
       "income                     float64\n",
       "monthly_premium_auto       float64\n",
       "nb_of_open_complaints       object\n",
       "policy_type                 object\n",
       "vehicle_class               object\n",
       "total_claim_amount         float64\n",
       "dtype: object"
      ]
     },
     "execution_count": 11,
     "metadata": {},
     "output_type": "execute_result"
    }
   ],
   "source": [
    "df.dtypes"
   ]
  },
  {
   "cell_type": "markdown",
   "id": "f0efeee0",
   "metadata": {},
   "source": [
    "1. **Customer Lifetime Value\" should be cleaned by removing the \"%\" and changing the type to INTEGER.**\n",
    "\n",
    "2. **\"Number of Open Complaints\" should be cleaned by taking only the middle number that is changing and changing the data type to float since we can not directly convert from object to int if NA values are still there.**"
   ]
  },
  {
   "cell_type": "code",
   "execution_count": 12,
   "id": "ae716f2a",
   "metadata": {},
   "outputs": [],
   "source": [
    "df[\"customer_lifetime_value\"] = df[\"customer_lifetime_value\"].str.replace(\"%\",\"\")"
   ]
  },
  {
   "cell_type": "code",
   "execution_count": 13,
   "id": "287c070d",
   "metadata": {},
   "outputs": [],
   "source": [
    "df[\"customer_lifetime_value\"] = df[\"customer_lifetime_value\"].astype(\"float64\")"
   ]
  },
  {
   "cell_type": "code",
   "execution_count": 14,
   "id": "c3614498",
   "metadata": {},
   "outputs": [],
   "source": [
    "df[\"nb_of_open_complaints\"] = df[\"nb_of_open_complaints\"].str[2]"
   ]
  },
  {
   "cell_type": "code",
   "execution_count": 15,
   "id": "2ff2dff7",
   "metadata": {},
   "outputs": [],
   "source": [
    "df[\"nb_of_open_complaints\"] = df[\"nb_of_open_complaints\"].astype(\"float64\")"
   ]
  },
  {
   "cell_type": "markdown",
   "id": "453855db",
   "metadata": {},
   "source": [
    "### Dealing with NULL Values"
   ]
  },
  {
   "cell_type": "markdown",
   "id": "c2882fa1",
   "metadata": {},
   "source": [
    "#### 1. Since the customer column should be unique, I will first start by dropping rows which have a NULL entry in the \"customer\" column. An \"NA\" customer should not be found."
   ]
  },
  {
   "cell_type": "code",
   "execution_count": 16,
   "id": "bf5de8ff",
   "metadata": {},
   "outputs": [],
   "source": [
    "df = df.dropna(subset=\"customer\")"
   ]
  },
  {
   "cell_type": "code",
   "execution_count": 17,
   "id": "26d57110",
   "metadata": {},
   "outputs": [
    {
     "data": {
      "text/plain": [
       "customer                     0\n",
       "state                        0\n",
       "gender                     117\n",
       "education                    0\n",
       "customer_lifetime_value      3\n",
       "income                       0\n",
       "monthly_premium_auto         0\n",
       "nb_of_open_complaints        0\n",
       "policy_type                  0\n",
       "vehicle_class                0\n",
       "total_claim_amount           0\n",
       "dtype: int64"
      ]
     },
     "execution_count": 17,
     "metadata": {},
     "output_type": "execute_result"
    }
   ],
   "source": [
    "df.isna().sum()"
   ]
  },
  {
   "cell_type": "markdown",
   "id": "9f266667",
   "metadata": {},
   "source": [
    "#### 2. For NA values in column \"customer_lifetime_value\", I will replace them with the mean of that column."
   ]
  },
  {
   "cell_type": "code",
   "execution_count": 18,
   "id": "a82e6ea8",
   "metadata": {},
   "outputs": [],
   "source": [
    "df[\"customer_lifetime_value\"]=df[\"customer_lifetime_value\"].fillna(value=df[\"customer_lifetime_value\"].mean())"
   ]
  },
  {
   "cell_type": "code",
   "execution_count": 19,
   "id": "dffc3254",
   "metadata": {},
   "outputs": [],
   "source": [
    "df=df.reset_index(drop=True)"
   ]
  },
  {
   "cell_type": "code",
   "execution_count": 20,
   "id": "d6fdb8da",
   "metadata": {},
   "outputs": [
    {
     "data": {
      "text/plain": [
       "customer                     0\n",
       "state                        0\n",
       "gender                     117\n",
       "education                    0\n",
       "customer_lifetime_value      0\n",
       "income                       0\n",
       "monthly_premium_auto         0\n",
       "nb_of_open_complaints        0\n",
       "policy_type                  0\n",
       "vehicle_class                0\n",
       "total_claim_amount           0\n",
       "dtype: int64"
      ]
     },
     "execution_count": 20,
     "metadata": {},
     "output_type": "execute_result"
    }
   ],
   "source": [
    "df.isna().sum()"
   ]
  },
  {
   "cell_type": "code",
   "execution_count": 21,
   "id": "a2d06e50",
   "metadata": {},
   "outputs": [
    {
     "data": {
      "text/plain": [
       "(1071, 11)"
      ]
     },
     "execution_count": 21,
     "metadata": {},
     "output_type": "execute_result"
    }
   ],
   "source": [
    "df.shape"
   ]
  },
  {
   "cell_type": "markdown",
   "id": "e76cb13d",
   "metadata": {},
   "source": [
    "#### 3. Dropping rows having NA values as \"gender\" will result in decreasing our dataset by around 10.93%. That is high. So, I will replace NA values of column \"gender\" by the mode."
   ]
  },
  {
   "cell_type": "code",
   "execution_count": 22,
   "id": "5d2bbd9f",
   "metadata": {},
   "outputs": [
    {
     "data": {
      "text/plain": [
       "gender\n",
       "F    502\n",
       "M    452\n",
       "Name: count, dtype: int64"
      ]
     },
     "execution_count": 22,
     "metadata": {},
     "output_type": "execute_result"
    }
   ],
   "source": [
    "df[\"gender\"].value_counts()"
   ]
  },
  {
   "cell_type": "markdown",
   "id": "8dfb8d9c",
   "metadata": {},
   "source": [
    "#### Replacing NA values with \"F\":"
   ]
  },
  {
   "cell_type": "code",
   "execution_count": 23,
   "id": "44eb1bba",
   "metadata": {},
   "outputs": [],
   "source": [
    "df[\"gender\"] = df[\"gender\"].fillna(value=\"F\")"
   ]
  },
  {
   "cell_type": "code",
   "execution_count": 24,
   "id": "f9c40d6c",
   "metadata": {},
   "outputs": [
    {
     "data": {
      "text/html": [
       "<div>\n",
       "<style scoped>\n",
       "    .dataframe tbody tr th:only-of-type {\n",
       "        vertical-align: middle;\n",
       "    }\n",
       "\n",
       "    .dataframe tbody tr th {\n",
       "        vertical-align: top;\n",
       "    }\n",
       "\n",
       "    .dataframe thead th {\n",
       "        text-align: right;\n",
       "    }\n",
       "</style>\n",
       "<table border=\"1\" class=\"dataframe\">\n",
       "  <thead>\n",
       "    <tr style=\"text-align: right;\">\n",
       "      <th></th>\n",
       "      <th>customer</th>\n",
       "      <th>state</th>\n",
       "      <th>gender</th>\n",
       "      <th>education</th>\n",
       "      <th>customer_lifetime_value</th>\n",
       "      <th>income</th>\n",
       "      <th>monthly_premium_auto</th>\n",
       "      <th>nb_of_open_complaints</th>\n",
       "      <th>policy_type</th>\n",
       "      <th>vehicle_class</th>\n",
       "      <th>total_claim_amount</th>\n",
       "    </tr>\n",
       "  </thead>\n",
       "  <tbody>\n",
       "  </tbody>\n",
       "</table>\n",
       "</div>"
      ],
      "text/plain": [
       "Empty DataFrame\n",
       "Columns: [customer, state, gender, education, customer_lifetime_value, income, monthly_premium_auto, nb_of_open_complaints, policy_type, vehicle_class, total_claim_amount]\n",
       "Index: []"
      ]
     },
     "execution_count": 24,
     "metadata": {},
     "output_type": "execute_result"
    }
   ],
   "source": [
    "df[df.isna().any(axis=1)]"
   ]
  },
  {
   "cell_type": "markdown",
   "id": "990a539c",
   "metadata": {},
   "source": [
    "#### We do not have any NA values anymore."
   ]
  },
  {
   "cell_type": "markdown",
   "id": "c685a746",
   "metadata": {},
   "source": [
    "### Turning numeric columns into integers using applymap."
   ]
  },
  {
   "cell_type": "code",
   "execution_count": 25,
   "id": "bf53487b",
   "metadata": {},
   "outputs": [],
   "source": [
    "df = df.applymap(lambda x: int(x) if type(x) == float else x)"
   ]
  },
  {
   "cell_type": "code",
   "execution_count": 26,
   "id": "9ef51a5f",
   "metadata": {},
   "outputs": [
    {
     "data": {
      "text/plain": [
       "customer                   object\n",
       "state                      object\n",
       "gender                     object\n",
       "education                  object\n",
       "customer_lifetime_value     int64\n",
       "income                      int64\n",
       "monthly_premium_auto        int64\n",
       "nb_of_open_complaints       int64\n",
       "policy_type                object\n",
       "vehicle_class              object\n",
       "total_claim_amount          int64\n",
       "dtype: object"
      ]
     },
     "execution_count": 26,
     "metadata": {},
     "output_type": "execute_result"
    }
   ],
   "source": [
    "df.dtypes"
   ]
  },
  {
   "cell_type": "markdown",
   "id": "9af962f3",
   "metadata": {},
   "source": [
    "#### Saving to new csv file"
   ]
  },
  {
   "cell_type": "code",
   "execution_count": 27,
   "id": "faee485e",
   "metadata": {},
   "outputs": [],
   "source": [
    "df_clean = df.to_csv(\"df_clean\",index=False)"
   ]
  },
  {
   "cell_type": "markdown",
   "id": "fe78f160",
   "metadata": {},
   "source": [
    "### Dropping Duplicates"
   ]
  },
  {
   "cell_type": "markdown",
   "id": "b7ac3dd1",
   "metadata": {},
   "source": [
    "#### Dropping fully indentical rows where all entries are identical. Keeping only the first occurrence of each duplicated row since I want the first occurence."
   ]
  },
  {
   "cell_type": "code",
   "execution_count": 28,
   "id": "b4b67e50",
   "metadata": {},
   "outputs": [],
   "source": [
    "df = df.drop_duplicates(ignore_index = True)"
   ]
  },
  {
   "cell_type": "markdown",
   "id": "9f1c6a7b",
   "metadata": {},
   "source": [
    "#### Dropping duplicate customer entries since it should be unique and it might have duplicates but other entries are different due to false entries. Keeping only the first occurrence of each duplicated row."
   ]
  },
  {
   "cell_type": "code",
   "execution_count": 29,
   "id": "d7204407",
   "metadata": {},
   "outputs": [],
   "source": [
    "df = df.drop_duplicates(subset = \"customer\",ignore_index = True)"
   ]
  },
  {
   "cell_type": "code",
   "execution_count": 30,
   "id": "6b9503e3",
   "metadata": {},
   "outputs": [
    {
     "data": {
      "text/html": [
       "<div>\n",
       "<style scoped>\n",
       "    .dataframe tbody tr th:only-of-type {\n",
       "        vertical-align: middle;\n",
       "    }\n",
       "\n",
       "    .dataframe tbody tr th {\n",
       "        vertical-align: top;\n",
       "    }\n",
       "\n",
       "    .dataframe thead th {\n",
       "        text-align: right;\n",
       "    }\n",
       "</style>\n",
       "<table border=\"1\" class=\"dataframe\">\n",
       "  <thead>\n",
       "    <tr style=\"text-align: right;\">\n",
       "      <th></th>\n",
       "      <th>customer</th>\n",
       "      <th>state</th>\n",
       "      <th>gender</th>\n",
       "      <th>education</th>\n",
       "      <th>customer_lifetime_value</th>\n",
       "      <th>income</th>\n",
       "      <th>monthly_premium_auto</th>\n",
       "      <th>nb_of_open_complaints</th>\n",
       "      <th>policy_type</th>\n",
       "      <th>vehicle_class</th>\n",
       "      <th>total_claim_amount</th>\n",
       "    </tr>\n",
       "  </thead>\n",
       "  <tbody>\n",
       "  </tbody>\n",
       "</table>\n",
       "</div>"
      ],
      "text/plain": [
       "Empty DataFrame\n",
       "Columns: [customer, state, gender, education, customer_lifetime_value, income, monthly_premium_auto, nb_of_open_complaints, policy_type, vehicle_class, total_claim_amount]\n",
       "Index: []"
      ]
     },
     "execution_count": 30,
     "metadata": {},
     "output_type": "execute_result"
    }
   ],
   "source": [
    "df[df.duplicated()]"
   ]
  },
  {
   "cell_type": "markdown",
   "id": "0ef29829",
   "metadata": {},
   "source": [
    "#### This shows that we dont have duplicates."
   ]
  },
  {
   "cell_type": "code",
   "execution_count": 31,
   "id": "a501db43",
   "metadata": {},
   "outputs": [],
   "source": [
    "df_clean_1 = df.to_csv(\"df_clean_1\",index=False)"
   ]
  },
  {
   "cell_type": "markdown",
   "id": "251b5b4d",
   "metadata": {},
   "source": [
    "## Challenge 2: creating functions on a separate py file"
   ]
  },
  {
   "cell_type": "code",
   "execution_count": 10,
   "id": "1f18924f",
   "metadata": {},
   "outputs": [
    {
     "name": "stdout",
     "output_type": "stream",
     "text": [
      "The autoreload extension is already loaded. To reload it, use:\n",
      "  %reload_ext autoreload\n"
     ]
    }
   ],
   "source": [
    "%load_ext autoreload\n",
    "%autoreload 2"
   ]
  },
  {
   "cell_type": "code",
   "execution_count": 11,
   "id": "2089855c",
   "metadata": {},
   "outputs": [],
   "source": [
    "import func"
   ]
  },
  {
   "cell_type": "code",
   "execution_count": 12,
   "id": "c2e709de",
   "metadata": {
    "scrolled": true
   },
   "outputs": [],
   "source": [
    "strn = func.main(df)"
   ]
  },
  {
   "cell_type": "code",
   "execution_count": 13,
   "id": "210395fb",
   "metadata": {},
   "outputs": [
    {
     "data": {
      "text/plain": [
       "customer                   2937\n",
       "state                      2937\n",
       "gender                        0\n",
       "education                  2937\n",
       "customer_lifetime_value       0\n",
       "income                     2937\n",
       "monthly_premium_auto       2937\n",
       "nb_of_open_complaints      2937\n",
       "policy_type                2937\n",
       "vehicle_class              2937\n",
       "total_claim_amount         2937\n",
       "dtype: int64"
      ]
     },
     "execution_count": 13,
     "metadata": {},
     "output_type": "execute_result"
    }
   ],
   "source": [
    "strn.isna().sum()"
   ]
  },
  {
   "cell_type": "markdown",
   "id": "65f66797",
   "metadata": {},
   "source": [
    "## Challenge 3: Analyzing Clean and Formated Data"
   ]
  },
  {
   "cell_type": "code",
   "execution_count": 34,
   "id": "5e4c9572",
   "metadata": {},
   "outputs": [],
   "source": [
    "q = df[\"total_claim_amount\"].quantile(q=0.75)\n",
    "p = df[\"customer_lifetime_value\"].quantile(q=0.25)"
   ]
  },
  {
   "cell_type": "code",
   "execution_count": 40,
   "id": "91a9d31c",
   "metadata": {},
   "outputs": [],
   "source": [
    "new_df = df.loc[(df[\"total_claim_amount\"]>q) & (df[\"customer_lifetime_value\"]<p)]\n",
    "new_df = new_df.reset_index(drop=True)"
   ]
  },
  {
   "cell_type": "code",
   "execution_count": 47,
   "id": "48413413",
   "metadata": {},
   "outputs": [
    {
     "name": "stdout",
     "output_type": "stream",
     "text": [
      "       total_claim_amount  customer_lifetime_value\n",
      "count           40.000000                40.000000\n",
      "mean           723.300000            341577.425000\n",
      "std            149.216449             56921.466178\n",
      "min            537.000000            228759.000000\n",
      "25%            632.750000            304220.500000\n",
      "50%            685.000000            365995.000000\n",
      "75%            799.000000            387364.000000\n",
      "max           1185.000000            402381.000000\n"
     ]
    }
   ],
   "source": [
    "summary_stats = new_df[[\"total_claim_amount\",\"customer_lifetime_value\"]].describe()\n",
    "print(summary_stats)"
   ]
  }
 ],
 "metadata": {
  "kernelspec": {
   "display_name": "Python 3 (ipykernel)",
   "language": "python",
   "name": "python3"
  },
  "language_info": {
   "codemirror_mode": {
    "name": "ipython",
    "version": 3
   },
   "file_extension": ".py",
   "mimetype": "text/x-python",
   "name": "python",
   "nbconvert_exporter": "python",
   "pygments_lexer": "ipython3",
   "version": "3.10.9"
  }
 },
 "nbformat": 4,
 "nbformat_minor": 5
}
