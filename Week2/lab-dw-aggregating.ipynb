{
 "cells": [
  {
   "cell_type": "markdown",
   "id": "31969215-2a90-4d8b-ac36-646a7ae13744",
   "metadata": {},
   "source": [
    "# Lab | Data Aggregation and Filtering"
   ]
  },
  {
   "cell_type": "markdown",
   "id": "769df97b-bcc6-4ab0-9b87-eb04853d4351",
   "metadata": {},
   "source": [
    "Objective: Use Python programming techniques to filter and order data subsets, group data by one or more variables, and use aggregation functions to obtain insights, and derive meaningful conclusions from the data."
   ]
  },
  {
   "cell_type": "markdown",
   "id": "a8f08a52-bec0-439b-99cc-11d3809d8b5d",
   "metadata": {},
   "source": [
    "In this challenge, we will continue to work with customer data from an insurance company. We will use the dataset called marketing_customer_analysis.csv, which can be found at the following link:\n",
    "\n",
    "https://raw.githubusercontent.com/data-bootcamp-v4/data/main/marketing_customer_analysis.csv\n",
    "\n",
    "This dataset contains information such as customer demographics, policy details, vehicle information, and the customer's response to the last marketing campaign. Our goal is to explore and analyze this data by performing first data cleaning, formatting, and structuring."
   ]
  },
  {
   "cell_type": "markdown",
   "id": "c2a39af7-a37b-43f1-a413-3e163a55125e",
   "metadata": {},
   "source": [
    "Start by reading the dataset, standardizing column names, dealing with null values and creating the month column. You can do so by using the functions you developed in previous labs, or by reading the clean dataset you saved in the last lab `data structuring and combining`."
   ]
  },
  {
   "cell_type": "markdown",
   "id": "0a3bc930-db26-4fd4-b261-ea03e12f3a26",
   "metadata": {},
   "source": [
    "Then, answer the following questions:"
   ]
  },
  {
   "cell_type": "markdown",
   "id": "9c98ddc5-b041-4c94-ada1-4dfee5c98e50",
   "metadata": {},
   "source": [
    "1. Create a new DataFrame that only includes customers who have a total_claim_amount greater than $1,000 and have a response of \"Yes\" to the last marketing campaign."
   ]
  },
  {
   "cell_type": "markdown",
   "id": "341352f7-305d-4928-be75-4a4a342205b5",
   "metadata": {},
   "source": [
    "2. Analyze the average total_claim_amount by each policy type and gender for customers who have responded \"Yes\" to the last marketing campaign."
   ]
  },
  {
   "cell_type": "markdown",
   "id": "7050f4ac-53c5-4193-a3c0-8699b87196f0",
   "metadata": {},
   "source": [
    "3. Analyze the total number of customers who have policies in each state, and then filter the results to only include states where there are more than 500 customers."
   ]
  },
  {
   "cell_type": "markdown",
   "id": "2661421c-0534-4d5c-b803-d05459277f82",
   "metadata": {},
   "source": [
    "4. Find the median customer lifetime value by education level and gender."
   ]
  },
  {
   "cell_type": "markdown",
   "id": "867b0167-09e2-4111-91c8-b4fb9596d741",
   "metadata": {},
   "source": [
    "5. Find the maximum, minimum, and average number of open complaints by state and policy type."
   ]
  },
  {
   "cell_type": "markdown",
   "id": "81ff02c5-6584-4f21-a358-b918697c6432",
   "metadata": {},
   "source": [
    "6. The marketing team wants to analyze the number of policies sold by state and month.\n",
    "\n",
    "Present the data in a table where the months are arranged as columns and the states are arranged as rows."
   ]
  },
  {
   "cell_type": "markdown",
   "id": "b6aec097-c633-4017-a125-e77a97259cda",
   "metadata": {},
   "source": [
    "7. Display a new DataFrame that contains the number of policies sold by month by state for the top 3 states with the highest number of policies sold.\n",
    "\n",
    "*Hint:* \n",
    "- *To accomplish this, you will first need to group the data by state and month, then count the number of policies sold for each group. Afterwards, you will need to sort the data by the count of policies sold in descending order.*\n",
    "- *Next, you will select the top 3 states with the highest number of policies sold.*\n",
    "- *Finally, you will create a new DataFrame that contains the number of policies sold by month for each of the top 3 states.*"
   ]
  },
  {
   "cell_type": "markdown",
   "id": "ba975b8a-a2cf-4fbf-9f59-ebc381767009",
   "metadata": {},
   "source": [
    "8. The marketing team wants to analyze the effect of different marketing channels on the customer response rate.\n",
    "\n",
    "Hint: You can use melt to unpivot the data and create a table that shows the customer response rate (those who responded \"Yes\") by marketing channel."
   ]
  },
  {
   "cell_type": "markdown",
   "id": "e4378d94-48fb-4850-a802-b1bc8f427b2d",
   "metadata": {},
   "source": [
    "External Resources for Data Filtering: https://towardsdatascience.com/filtering-data-frames-in-pandas-b570b1f834b9"
   ]
  },
  {
   "cell_type": "markdown",
   "id": "e0b6e5d5",
   "metadata": {},
   "source": [
    "## Reading the cleaned dataset"
   ]
  },
  {
   "cell_type": "code",
   "execution_count": 1,
   "id": "9a12f201",
   "metadata": {},
   "outputs": [],
   "source": [
    "import pandas as pd\n",
    "\n",
    "df = pd.read_csv(\"marketing_customer_analysis_clean.csv\")"
   ]
  },
  {
   "cell_type": "markdown",
   "id": "732f5d16",
   "metadata": {},
   "source": [
    "**1. Creating a new DataFrame that only includes customers who have a total_claim_amount greater than $1,000 and have a response of \"Yes\" to the last marketing campaign.**"
   ]
  },
  {
   "cell_type": "code",
   "execution_count": 2,
   "id": "e95267bd",
   "metadata": {},
   "outputs": [],
   "source": [
    "df_1 = df[(df[\"total_claim_amount\"]>1000) & (df[\"response\"]==\"Yes\")]"
   ]
  },
  {
   "cell_type": "markdown",
   "id": "370c1978",
   "metadata": {},
   "source": [
    "**2. Analyze the average total_claim_amount by each policy type and gender for customers who have responded \"Yes\" to the last marketing campaign.**"
   ]
  },
  {
   "cell_type": "code",
   "execution_count": 3,
   "id": "f6ad2f18",
   "metadata": {},
   "outputs": [
    {
     "data": {
      "text/plain": [
       "policy_type     gender\n",
       "Corporate Auto  F         431.480117\n",
       "                M         412.756888\n",
       "Personal Auto   F         454.089997\n",
       "                M         453.603715\n",
       "Special Auto    F         455.648867\n",
       "                M         414.799291\n",
       "Name: total_claim_amount, dtype: float64"
      ]
     },
     "execution_count": 3,
     "metadata": {},
     "output_type": "execute_result"
    }
   ],
   "source": [
    "df_2 = df[(df[\"response\"]==\"Yes\")]\n",
    "df_2.groupby([\"policy_type\",\"gender\"])[\"total_claim_amount\"].mean()"
   ]
  },
  {
   "cell_type": "markdown",
   "id": "a1b40c0d",
   "metadata": {},
   "source": [
    "**3. Analyze the total number of customers who have policies in each state, and then filter the results to only include states where there are more than 500 customers.**"
   ]
  },
  {
   "cell_type": "code",
   "execution_count": 7,
   "id": "d76189e9",
   "metadata": {},
   "outputs": [
    {
     "data": {
      "text/plain": [
       "state\n",
       "Arizona       1703\n",
       "California    3150\n",
       "Nevada         882\n",
       "Oregon        2601\n",
       "Washington     798\n",
       "Name: customer, dtype: int64"
      ]
     },
     "execution_count": 7,
     "metadata": {},
     "output_type": "execute_result"
    }
   ],
   "source": [
    "df_state = df.groupby(\"state\")[\"customer\"].count()\n",
    "df_state = df_state[df_state>500]\n",
    "df_state"
   ]
  },
  {
   "cell_type": "markdown",
   "id": "9387795e",
   "metadata": {},
   "source": [
    "**4. Find the median customer lifetime value by education level and gender.**"
   ]
  },
  {
   "cell_type": "code",
   "execution_count": 16,
   "id": "3c4d5703",
   "metadata": {},
   "outputs": [
    {
     "data": {
      "text/plain": [
       "education             gender\n",
       "Bachelor              F         5678.050167\n",
       "                      M         5555.830205\n",
       "College               F         5621.789489\n",
       "                      M         5989.773931\n",
       "Doctor                F         5332.462694\n",
       "                      M         5620.587184\n",
       "High School or Below  F         6044.020038\n",
       "                      M         6176.700392\n",
       "Master                F         5801.128252\n",
       "                      M         5617.956917\n",
       "Name: customer_lifetime_value, dtype: float64"
      ]
     },
     "execution_count": 16,
     "metadata": {},
     "output_type": "execute_result"
    }
   ],
   "source": [
    "df_med = df.groupby([\"education\",\"gender\"])[\"customer_lifetime_value\"].median()\n",
    "df_med"
   ]
  },
  {
   "cell_type": "markdown",
   "id": "a9bd07f1",
   "metadata": {},
   "source": [
    "**5. Find the maximum, minimum, and average number of open complaints by state and policy type.**"
   ]
  },
  {
   "cell_type": "code",
   "execution_count": 21,
   "id": "aadf7308",
   "metadata": {},
   "outputs": [
    {
     "data": {
      "text/html": [
       "<div>\n",
       "<style scoped>\n",
       "    .dataframe tbody tr th:only-of-type {\n",
       "        vertical-align: middle;\n",
       "    }\n",
       "\n",
       "    .dataframe tbody tr th {\n",
       "        vertical-align: top;\n",
       "    }\n",
       "\n",
       "    .dataframe thead th {\n",
       "        text-align: right;\n",
       "    }\n",
       "</style>\n",
       "<table border=\"1\" class=\"dataframe\">\n",
       "  <thead>\n",
       "    <tr style=\"text-align: right;\">\n",
       "      <th></th>\n",
       "      <th></th>\n",
       "      <th>max</th>\n",
       "      <th>min</th>\n",
       "      <th>mean</th>\n",
       "    </tr>\n",
       "    <tr>\n",
       "      <th>state</th>\n",
       "      <th>policy_type</th>\n",
       "      <th></th>\n",
       "      <th></th>\n",
       "      <th></th>\n",
       "    </tr>\n",
       "  </thead>\n",
       "  <tbody>\n",
       "    <tr>\n",
       "      <th rowspan=\"3\" valign=\"top\">Arizona</th>\n",
       "      <th>Corporate Auto</th>\n",
       "      <td>5</td>\n",
       "      <td>0</td>\n",
       "      <td>0.372372</td>\n",
       "    </tr>\n",
       "    <tr>\n",
       "      <th>Personal Auto</th>\n",
       "      <td>5</td>\n",
       "      <td>0</td>\n",
       "      <td>0.393658</td>\n",
       "    </tr>\n",
       "    <tr>\n",
       "      <th>Special Auto</th>\n",
       "      <td>3</td>\n",
       "      <td>0</td>\n",
       "      <td>0.259740</td>\n",
       "    </tr>\n",
       "    <tr>\n",
       "      <th rowspan=\"3\" valign=\"top\">California</th>\n",
       "      <th>Corporate Auto</th>\n",
       "      <td>4</td>\n",
       "      <td>0</td>\n",
       "      <td>0.315291</td>\n",
       "    </tr>\n",
       "    <tr>\n",
       "      <th>Personal Auto</th>\n",
       "      <td>5</td>\n",
       "      <td>0</td>\n",
       "      <td>0.400348</td>\n",
       "    </tr>\n",
       "    <tr>\n",
       "      <th>Special Auto</th>\n",
       "      <td>5</td>\n",
       "      <td>0</td>\n",
       "      <td>0.460177</td>\n",
       "    </tr>\n",
       "    <tr>\n",
       "      <th rowspan=\"3\" valign=\"top\">Nevada</th>\n",
       "      <th>Corporate Auto</th>\n",
       "      <td>5</td>\n",
       "      <td>0</td>\n",
       "      <td>0.451282</td>\n",
       "    </tr>\n",
       "    <tr>\n",
       "      <th>Personal Auto</th>\n",
       "      <td>5</td>\n",
       "      <td>0</td>\n",
       "      <td>0.412577</td>\n",
       "    </tr>\n",
       "    <tr>\n",
       "      <th>Special Auto</th>\n",
       "      <td>5</td>\n",
       "      <td>0</td>\n",
       "      <td>0.600000</td>\n",
       "    </tr>\n",
       "    <tr>\n",
       "      <th rowspan=\"3\" valign=\"top\">Oregon</th>\n",
       "      <th>Corporate Auto</th>\n",
       "      <td>4</td>\n",
       "      <td>0</td>\n",
       "      <td>0.335185</td>\n",
       "    </tr>\n",
       "    <tr>\n",
       "      <th>Personal Auto</th>\n",
       "      <td>5</td>\n",
       "      <td>0</td>\n",
       "      <td>0.373065</td>\n",
       "    </tr>\n",
       "    <tr>\n",
       "      <th>Special Auto</th>\n",
       "      <td>5</td>\n",
       "      <td>0</td>\n",
       "      <td>0.341463</td>\n",
       "    </tr>\n",
       "    <tr>\n",
       "      <th rowspan=\"3\" valign=\"top\">Washington</th>\n",
       "      <th>Corporate Auto</th>\n",
       "      <td>5</td>\n",
       "      <td>0</td>\n",
       "      <td>0.490683</td>\n",
       "    </tr>\n",
       "    <tr>\n",
       "      <th>Personal Auto</th>\n",
       "      <td>5</td>\n",
       "      <td>0</td>\n",
       "      <td>0.385502</td>\n",
       "    </tr>\n",
       "    <tr>\n",
       "      <th>Special Auto</th>\n",
       "      <td>4</td>\n",
       "      <td>0</td>\n",
       "      <td>0.533333</td>\n",
       "    </tr>\n",
       "  </tbody>\n",
       "</table>\n",
       "</div>"
      ],
      "text/plain": [
       "                           max  min      mean\n",
       "state      policy_type                       \n",
       "Arizona    Corporate Auto    5    0  0.372372\n",
       "           Personal Auto     5    0  0.393658\n",
       "           Special Auto      3    0  0.259740\n",
       "California Corporate Auto    4    0  0.315291\n",
       "           Personal Auto     5    0  0.400348\n",
       "           Special Auto      5    0  0.460177\n",
       "Nevada     Corporate Auto    5    0  0.451282\n",
       "           Personal Auto     5    0  0.412577\n",
       "           Special Auto      5    0  0.600000\n",
       "Oregon     Corporate Auto    4    0  0.335185\n",
       "           Personal Auto     5    0  0.373065\n",
       "           Special Auto      5    0  0.341463\n",
       "Washington Corporate Auto    5    0  0.490683\n",
       "           Personal Auto     5    0  0.385502\n",
       "           Special Auto      4    0  0.533333"
      ]
     },
     "execution_count": 21,
     "metadata": {},
     "output_type": "execute_result"
    }
   ],
   "source": [
    "okii = df.groupby([\"state\",\"policy_type\"])[\"nb_of_open_complaints\"].aggregate([\"max\",\"min\",\"mean\"])\n",
    "okii"
   ]
  },
  {
   "cell_type": "markdown",
   "id": "58655ccd",
   "metadata": {},
   "source": [
    "**6. The marketing team wants to analyze the number of policies sold by state and month.**\n",
    "\n",
    "**Present the data in a table where the months are arranged as columns and the states are arranged as rows.**"
   ]
  },
  {
   "cell_type": "code",
   "execution_count": 30,
   "id": "81c43784",
   "metadata": {},
   "outputs": [
    {
     "data": {
      "text/html": [
       "<div>\n",
       "<style scoped>\n",
       "    .dataframe tbody tr th:only-of-type {\n",
       "        vertical-align: middle;\n",
       "    }\n",
       "\n",
       "    .dataframe tbody tr th {\n",
       "        vertical-align: top;\n",
       "    }\n",
       "\n",
       "    .dataframe thead th {\n",
       "        text-align: right;\n",
       "    }\n",
       "</style>\n",
       "<table border=\"1\" class=\"dataframe\">\n",
       "  <thead>\n",
       "    <tr style=\"text-align: right;\">\n",
       "      <th>months</th>\n",
       "      <th>1</th>\n",
       "      <th>2</th>\n",
       "    </tr>\n",
       "    <tr>\n",
       "      <th>state</th>\n",
       "      <th></th>\n",
       "      <th></th>\n",
       "    </tr>\n",
       "  </thead>\n",
       "  <tbody>\n",
       "    <tr>\n",
       "      <th>Arizona</th>\n",
       "      <td>2743</td>\n",
       "      <td>2481</td>\n",
       "    </tr>\n",
       "    <tr>\n",
       "      <th>California</th>\n",
       "      <td>4979</td>\n",
       "      <td>4369</td>\n",
       "    </tr>\n",
       "    <tr>\n",
       "      <th>Nevada</th>\n",
       "      <td>1343</td>\n",
       "      <td>1106</td>\n",
       "    </tr>\n",
       "    <tr>\n",
       "      <th>Oregon</th>\n",
       "      <td>4143</td>\n",
       "      <td>3592</td>\n",
       "    </tr>\n",
       "    <tr>\n",
       "      <th>Washington</th>\n",
       "      <td>1219</td>\n",
       "      <td>1118</td>\n",
       "    </tr>\n",
       "  </tbody>\n",
       "</table>\n",
       "</div>"
      ],
      "text/plain": [
       "months         1     2\n",
       "state                 \n",
       "Arizona     2743  2481\n",
       "California  4979  4369\n",
       "Nevada      1343  1106\n",
       "Oregon      4143  3592\n",
       "Washington  1219  1118"
      ]
     },
     "execution_count": 30,
     "metadata": {},
     "output_type": "execute_result"
    }
   ],
   "source": [
    "# Method 1\n",
    "\n",
    "pivot_table = pd.pivot_table(df, values='nb_of_policies', index=['state'], columns=['months'], aggfunc=sum)\n",
    "pivot_table"
   ]
  },
  {
   "cell_type": "code",
   "execution_count": 38,
   "id": "2a0d7077",
   "metadata": {},
   "outputs": [
    {
     "data": {
      "text/html": [
       "<div>\n",
       "<style scoped>\n",
       "    .dataframe tbody tr th:only-of-type {\n",
       "        vertical-align: middle;\n",
       "    }\n",
       "\n",
       "    .dataframe tbody tr th {\n",
       "        vertical-align: top;\n",
       "    }\n",
       "\n",
       "    .dataframe thead th {\n",
       "        text-align: right;\n",
       "    }\n",
       "</style>\n",
       "<table border=\"1\" class=\"dataframe\">\n",
       "  <thead>\n",
       "    <tr style=\"text-align: right;\">\n",
       "      <th>months</th>\n",
       "      <th>1</th>\n",
       "      <th>2</th>\n",
       "    </tr>\n",
       "    <tr>\n",
       "      <th>state</th>\n",
       "      <th></th>\n",
       "      <th></th>\n",
       "    </tr>\n",
       "  </thead>\n",
       "  <tbody>\n",
       "    <tr>\n",
       "      <th>Arizona</th>\n",
       "      <td>2743</td>\n",
       "      <td>2481</td>\n",
       "    </tr>\n",
       "    <tr>\n",
       "      <th>California</th>\n",
       "      <td>4979</td>\n",
       "      <td>4369</td>\n",
       "    </tr>\n",
       "    <tr>\n",
       "      <th>Nevada</th>\n",
       "      <td>1343</td>\n",
       "      <td>1106</td>\n",
       "    </tr>\n",
       "    <tr>\n",
       "      <th>Oregon</th>\n",
       "      <td>4143</td>\n",
       "      <td>3592</td>\n",
       "    </tr>\n",
       "    <tr>\n",
       "      <th>Washington</th>\n",
       "      <td>1219</td>\n",
       "      <td>1118</td>\n",
       "    </tr>\n",
       "  </tbody>\n",
       "</table>\n",
       "</div>"
      ],
      "text/plain": [
       "months         1     2\n",
       "state                 \n",
       "Arizona     2743  2481\n",
       "California  4979  4369\n",
       "Nevada      1343  1106\n",
       "Oregon      4143  3592\n",
       "Washington  1219  1118"
      ]
     },
     "execution_count": 38,
     "metadata": {},
     "output_type": "execute_result"
    }
   ],
   "source": [
    "# Method 2\n",
    "\n",
    "pol = df.groupby([\"state\",\"months\"])[\"nb_of_policies\"].sum().unstack()\n",
    "pol"
   ]
  },
  {
   "cell_type": "markdown",
   "id": "c1312984",
   "metadata": {},
   "source": [
    "**7. Display a new DataFrame that contains the number of policies sold by month by state for the top 3 states with the highest number of policies sold.**"
   ]
  },
  {
   "cell_type": "code",
   "execution_count": 85,
   "id": "e9db6dee",
   "metadata": {},
   "outputs": [
    {
     "data": {
      "text/html": [
       "<div>\n",
       "<style scoped>\n",
       "    .dataframe tbody tr th:only-of-type {\n",
       "        vertical-align: middle;\n",
       "    }\n",
       "\n",
       "    .dataframe tbody tr th {\n",
       "        vertical-align: top;\n",
       "    }\n",
       "\n",
       "    .dataframe thead th {\n",
       "        text-align: right;\n",
       "    }\n",
       "</style>\n",
       "<table border=\"1\" class=\"dataframe\">\n",
       "  <thead>\n",
       "    <tr style=\"text-align: right;\">\n",
       "      <th></th>\n",
       "      <th>state</th>\n",
       "      <th>months</th>\n",
       "      <th>nb_of_policies</th>\n",
       "    </tr>\n",
       "  </thead>\n",
       "  <tbody>\n",
       "    <tr>\n",
       "      <th>0</th>\n",
       "      <td>California</td>\n",
       "      <td>1</td>\n",
       "      <td>4979</td>\n",
       "    </tr>\n",
       "    <tr>\n",
       "      <th>1</th>\n",
       "      <td>California</td>\n",
       "      <td>2</td>\n",
       "      <td>4369</td>\n",
       "    </tr>\n",
       "    <tr>\n",
       "      <th>2</th>\n",
       "      <td>Oregon</td>\n",
       "      <td>1</td>\n",
       "      <td>4143</td>\n",
       "    </tr>\n",
       "    <tr>\n",
       "      <th>3</th>\n",
       "      <td>Oregon</td>\n",
       "      <td>2</td>\n",
       "      <td>3592</td>\n",
       "    </tr>\n",
       "    <tr>\n",
       "      <th>4</th>\n",
       "      <td>Arizona</td>\n",
       "      <td>1</td>\n",
       "      <td>2743</td>\n",
       "    </tr>\n",
       "    <tr>\n",
       "      <th>5</th>\n",
       "      <td>Arizona</td>\n",
       "      <td>2</td>\n",
       "      <td>2481</td>\n",
       "    </tr>\n",
       "    <tr>\n",
       "      <th>6</th>\n",
       "      <td>Nevada</td>\n",
       "      <td>1</td>\n",
       "      <td>1343</td>\n",
       "    </tr>\n",
       "    <tr>\n",
       "      <th>7</th>\n",
       "      <td>Washington</td>\n",
       "      <td>1</td>\n",
       "      <td>1219</td>\n",
       "    </tr>\n",
       "    <tr>\n",
       "      <th>8</th>\n",
       "      <td>Washington</td>\n",
       "      <td>2</td>\n",
       "      <td>1118</td>\n",
       "    </tr>\n",
       "    <tr>\n",
       "      <th>9</th>\n",
       "      <td>Nevada</td>\n",
       "      <td>2</td>\n",
       "      <td>1106</td>\n",
       "    </tr>\n",
       "  </tbody>\n",
       "</table>\n",
       "</div>"
      ],
      "text/plain": [
       "        state  months  nb_of_policies\n",
       "0  California       1            4979\n",
       "1  California       2            4369\n",
       "2      Oregon       1            4143\n",
       "3      Oregon       2            3592\n",
       "4     Arizona       1            2743\n",
       "5     Arizona       2            2481\n",
       "6      Nevada       1            1343\n",
       "7  Washington       1            1219\n",
       "8  Washington       2            1118\n",
       "9      Nevada       2            1106"
      ]
     },
     "execution_count": 85,
     "metadata": {},
     "output_type": "execute_result"
    }
   ],
   "source": [
    "easy = df.groupby([\"state\",\"months\"])[\"nb_of_policies\"].sum().sort_values(ascending=False)\n",
    "easy = easy.reset_index()\n",
    "easy"
   ]
  },
  {
   "cell_type": "code",
   "execution_count": 110,
   "id": "f96dc1f2",
   "metadata": {},
   "outputs": [
    {
     "data": {
      "text/plain": [
       "array(['California', 'Oregon', 'Arizona'], dtype=object)"
      ]
     },
     "execution_count": 110,
     "metadata": {},
     "output_type": "execute_result"
    }
   ],
   "source": [
    "states = easy[\"state\"].unique()[:3]\n",
    "states"
   ]
  },
  {
   "cell_type": "code",
   "execution_count": 111,
   "id": "1ace4fc8",
   "metadata": {},
   "outputs": [
    {
     "data": {
      "text/html": [
       "<div>\n",
       "<style scoped>\n",
       "    .dataframe tbody tr th:only-of-type {\n",
       "        vertical-align: middle;\n",
       "    }\n",
       "\n",
       "    .dataframe tbody tr th {\n",
       "        vertical-align: top;\n",
       "    }\n",
       "\n",
       "    .dataframe thead th {\n",
       "        text-align: right;\n",
       "    }\n",
       "</style>\n",
       "<table border=\"1\" class=\"dataframe\">\n",
       "  <thead>\n",
       "    <tr style=\"text-align: right;\">\n",
       "      <th></th>\n",
       "      <th>state</th>\n",
       "      <th>months</th>\n",
       "      <th>nb_of_policies</th>\n",
       "    </tr>\n",
       "  </thead>\n",
       "  <tbody>\n",
       "    <tr>\n",
       "      <th>0</th>\n",
       "      <td>California</td>\n",
       "      <td>1</td>\n",
       "      <td>4979</td>\n",
       "    </tr>\n",
       "    <tr>\n",
       "      <th>1</th>\n",
       "      <td>California</td>\n",
       "      <td>2</td>\n",
       "      <td>4369</td>\n",
       "    </tr>\n",
       "    <tr>\n",
       "      <th>2</th>\n",
       "      <td>Oregon</td>\n",
       "      <td>1</td>\n",
       "      <td>4143</td>\n",
       "    </tr>\n",
       "    <tr>\n",
       "      <th>3</th>\n",
       "      <td>Oregon</td>\n",
       "      <td>2</td>\n",
       "      <td>3592</td>\n",
       "    </tr>\n",
       "    <tr>\n",
       "      <th>4</th>\n",
       "      <td>Arizona</td>\n",
       "      <td>1</td>\n",
       "      <td>2743</td>\n",
       "    </tr>\n",
       "    <tr>\n",
       "      <th>5</th>\n",
       "      <td>Arizona</td>\n",
       "      <td>2</td>\n",
       "      <td>2481</td>\n",
       "    </tr>\n",
       "  </tbody>\n",
       "</table>\n",
       "</div>"
      ],
      "text/plain": [
       "        state  months  nb_of_policies\n",
       "0  California       1            4979\n",
       "1  California       2            4369\n",
       "2      Oregon       1            4143\n",
       "3      Oregon       2            3592\n",
       "4     Arizona       1            2743\n",
       "5     Arizona       2            2481"
      ]
     },
     "execution_count": 111,
     "metadata": {},
     "output_type": "execute_result"
    }
   ],
   "source": [
    "top = easy[easy['state'].isin(states)]\n",
    "top"
   ]
  },
  {
   "cell_type": "markdown",
   "id": "0cb34261",
   "metadata": {},
   "source": [
    "**8. The marketing team wants to analyze the effect of different marketing channels on the customer response rate.**\n",
    "\n",
    "Hint: You can use melt to unpivot the data and create a table that shows the customer response rate (those who responded \"Yes\") by marketing channel."
   ]
  },
  {
   "cell_type": "code",
   "execution_count": 137,
   "id": "19861f3c",
   "metadata": {},
   "outputs": [],
   "source": [
    "response_yes = df[df[\"response\"]==\"Yes\"]\n",
    "table = pd.pivot_table(response_yes,values=\"response\",index=\"sales_channel\",aggfunc=\"count\")\n",
    "table.columns = [\"Responded Yes\"]"
   ]
  },
  {
   "cell_type": "code",
   "execution_count": 150,
   "id": "f029d3a0",
   "metadata": {},
   "outputs": [],
   "source": [
    "table[\"Response Rate of Yes(%)\"]= round((table[\"Responded Yes\"]/table[\"Responded Yes\"].sum())*100,2)"
   ]
  },
  {
   "cell_type": "code",
   "execution_count": 166,
   "id": "1267b411",
   "metadata": {},
   "outputs": [],
   "source": [
    "table[\"Response Rate(%)\"]= round(table[\"Responded Yes\"]/df[\"response\"].count()*100,2)"
   ]
  },
  {
   "cell_type": "code",
   "execution_count": 167,
   "id": "dcdb56cf",
   "metadata": {},
   "outputs": [
    {
     "data": {
      "text/html": [
       "<div>\n",
       "<style scoped>\n",
       "    .dataframe tbody tr th:only-of-type {\n",
       "        vertical-align: middle;\n",
       "    }\n",
       "\n",
       "    .dataframe tbody tr th {\n",
       "        vertical-align: top;\n",
       "    }\n",
       "\n",
       "    .dataframe thead th {\n",
       "        text-align: right;\n",
       "    }\n",
       "</style>\n",
       "<table border=\"1\" class=\"dataframe\">\n",
       "  <thead>\n",
       "    <tr style=\"text-align: right;\">\n",
       "      <th></th>\n",
       "      <th>Responded Yes</th>\n",
       "      <th>Response Rate of Yes(%)</th>\n",
       "      <th>Response Rate(%)</th>\n",
       "    </tr>\n",
       "    <tr>\n",
       "      <th>sales_channel</th>\n",
       "      <th></th>\n",
       "      <th></th>\n",
       "      <th></th>\n",
       "    </tr>\n",
       "  </thead>\n",
       "  <tbody>\n",
       "    <tr>\n",
       "      <th>Agent</th>\n",
       "      <td>666</td>\n",
       "      <td>50.92</td>\n",
       "      <td>7.29</td>\n",
       "    </tr>\n",
       "    <tr>\n",
       "      <th>Branch</th>\n",
       "      <td>294</td>\n",
       "      <td>22.48</td>\n",
       "      <td>3.22</td>\n",
       "    </tr>\n",
       "    <tr>\n",
       "      <th>Call Center</th>\n",
       "      <td>192</td>\n",
       "      <td>14.68</td>\n",
       "      <td>2.10</td>\n",
       "    </tr>\n",
       "    <tr>\n",
       "      <th>Web</th>\n",
       "      <td>156</td>\n",
       "      <td>11.93</td>\n",
       "      <td>1.71</td>\n",
       "    </tr>\n",
       "  </tbody>\n",
       "</table>\n",
       "</div>"
      ],
      "text/plain": [
       "               Responded Yes  Response Rate of Yes(%)  Response Rate(%)\n",
       "sales_channel                                                          \n",
       "Agent                    666                    50.92              7.29\n",
       "Branch                   294                    22.48              3.22\n",
       "Call Center              192                    14.68              2.10\n",
       "Web                      156                    11.93              1.71"
      ]
     },
     "execution_count": 167,
     "metadata": {},
     "output_type": "execute_result"
    }
   ],
   "source": [
    "table"
   ]
  },
  {
   "cell_type": "code",
   "execution_count": 139,
   "id": "911ed2a7",
   "metadata": {},
   "outputs": [],
   "source": [
    "import numpy as np\n",
    "import matplotlib.pyplot as plt\n",
    "import seaborn as sns\n",
    "%matplotlib inline"
   ]
  },
  {
   "cell_type": "code",
   "execution_count": 168,
   "id": "bbc33785",
   "metadata": {},
   "outputs": [
    {
     "data": {
      "text/plain": [
       "<Axes: xlabel='sales_channel', ylabel='count'>"
      ]
     },
     "execution_count": 168,
     "metadata": {},
     "output_type": "execute_result"
    },
    {
     "data": {
      "image/png": "[encoded data removed]",
      "text/plain": [
       "<Figure size 640x480 with 1 Axes>"
      ]
     },
     "metadata": {},
     "output_type": "display_data"
    }
   ],
   "source": [
    "sns.countplot(df,x=\"sales_channel\",hue=\"response\")"
   ]
  }
 ],
 "metadata": {
  "kernelspec": {
   "display_name": "Python 3 (ipykernel)",
   "language": "python",
   "name": "python3"
  },
  "language_info": {
   "codemirror_mode": {
    "name": "ipython",
    "version": 3
   },
   "file_extension": ".py",
   "mimetype": "text/x-python",
   "name": "python",
   "nbconvert_exporter": "python",
   "pygments_lexer": "ipython3",
   "version": "3.10.9"
  }
 },
 "nbformat": 4,
 "nbformat_minor": 5
}
