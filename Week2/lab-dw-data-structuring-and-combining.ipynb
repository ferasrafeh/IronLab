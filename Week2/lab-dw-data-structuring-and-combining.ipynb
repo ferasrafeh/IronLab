{
 "cells": [
  {
   "cell_type": "markdown",
   "id": "25d7736c-ba17-4aff-b6bb-66eba20fbf4e",
   "metadata": {},
   "source": [
    "# Lab | Data Structuring and Combining Data"
   ]
  },
  {
   "cell_type": "markdown",
   "id": "34ae7c66-9458-477c-8a31-c6b07a36bf66",
   "metadata": {},
   "source": [
    "Objective: \n",
    "- Combine and integrate data from multiple sources using merging, concatenating, or joining techniques to generate more comprehensive and meaningful datasets for analysis.\n",
    "- Modify the structure of data by pivoting, stacking/unstacking, or melting dataframes, enabling them to efficiently explore and analyze complex datasets. "
   ]
  },
  {
   "cell_type": "markdown",
   "id": "92b5f497-2c72-422b-86f7-06ad8842fd6d",
   "metadata": {},
   "source": [
    "# Challenge 1: Combining Data"
   ]
  },
  {
   "cell_type": "markdown",
   "id": "44f43906-6d37-4316-9ab4-7b6de18bc367",
   "metadata": {},
   "source": [
    "In this challenge, we will be working with the customer data from an insurance company, as we did in the two previous labs. The data can be found here:\n",
    "- https://raw.githubusercontent.com/data-bootcamp-v4/data/main/file1.csv\n",
    "\n",
    "But this time, we got new data, which can be found in the following 2 CSV files located at the following links: \n",
    "- https://raw.githubusercontent.com/data-bootcamp-v4/data/main/file2.csv\n",
    "- https://raw.githubusercontent.com/data-bootcamp-v4/data/main/file3.csv\n"
   ]
  },
  {
   "cell_type": "markdown",
   "id": "47bdd691-d5dd-4b85-a3be-3ca943cbf1e5",
   "metadata": {},
   "source": [
    "Perform data cleaning and formatting using the main cleaning and formatting function created in the previous lab to clean and format the data."
   ]
  },
  {
   "cell_type": "markdown",
   "id": "4eb4761d-8b1d-4ebb-a600-df45e1233ab4",
   "metadata": {},
   "source": [
    "Combine the data from the three dataframes into a single dataframe, named \"customer_data\", using appropriate merging, concatenating, and joining techniques.\n",
    "\n",
    "Verify that the customer_data dataframe contains all the rows and columns from the three original dataframes."
   ]
  },
  {
   "cell_type": "markdown",
   "id": "5d329067-5fe0-4a8f-b69d-d5b5cff0b7bf",
   "metadata": {},
   "source": [
    "Observation: \n",
    "- One option is to first combine the three datasets and then apply the cleaning function to the new combined dataset\n",
    "- Another option would be to read the clean file you saved in the previous lab, and just clean the two new files and concatenate the three clean datasets"
   ]
  },
  {
   "cell_type": "code",
   "execution_count": 1,
   "id": "492d06e3-92c7-4105-ac72-536db98d3244",
   "metadata": {},
   "outputs": [],
   "source": [
    "import pandas as pd\n",
    "\n",
    "df_1 = pd.read_csv(\"https://raw.githubusercontent.com/data-bootcamp-v4/data/main/file1.csv\")\n",
    "df_2 = pd.read_csv(\"https://raw.githubusercontent.com/data-bootcamp-v4/data/main/file2.csv\")\n",
    "df_3 = pd.read_csv(\"https://raw.githubusercontent.com/data-bootcamp-v4/data/main/file3.csv\")"
   ]
  },
  {
   "cell_type": "code",
   "execution_count": 2,
   "id": "3bd416d4",
   "metadata": {},
   "outputs": [],
   "source": [
    "import func\n",
    "\n",
    "df_1 = func.main(df_1)\n",
    "df_2 = func.main(df_2)\n",
    "df_3 = func.main(df_3)"
   ]
  },
  {
   "cell_type": "code",
   "execution_count": 3,
   "id": "9bda7c1a",
   "metadata": {},
   "outputs": [
    {
     "data": {
      "text/plain": [
       "(1071, 11)"
      ]
     },
     "execution_count": 3,
     "metadata": {},
     "output_type": "execute_result"
    }
   ],
   "source": [
    "df_1.shape"
   ]
  },
  {
   "cell_type": "code",
   "execution_count": 4,
   "id": "d5cbeb15",
   "metadata": {},
   "outputs": [
    {
     "data": {
      "text/plain": [
       "(996, 11)"
      ]
     },
     "execution_count": 4,
     "metadata": {},
     "output_type": "execute_result"
    }
   ],
   "source": [
    "df_2.shape"
   ]
  },
  {
   "cell_type": "code",
   "execution_count": 5,
   "id": "9b1f116e",
   "metadata": {},
   "outputs": [
    {
     "data": {
      "text/plain": [
       "(7070, 11)"
      ]
     },
     "execution_count": 5,
     "metadata": {},
     "output_type": "execute_result"
    }
   ],
   "source": [
    "df_3.shape"
   ]
  },
  {
   "cell_type": "code",
   "execution_count": 6,
   "id": "d2539246",
   "metadata": {},
   "outputs": [],
   "source": [
    "customer_data = pd.concat([df_1,df_2,df_3], ignore_index=True)"
   ]
  },
  {
   "cell_type": "code",
   "execution_count": 7,
   "id": "c0df7edb",
   "metadata": {},
   "outputs": [
    {
     "data": {
      "text/plain": [
       "(9137, 11)"
      ]
     },
     "execution_count": 7,
     "metadata": {},
     "output_type": "execute_result"
    }
   ],
   "source": [
    "customer_data.shape"
   ]
  },
  {
   "cell_type": "markdown",
   "id": "0fb61358",
   "metadata": {},
   "source": [
    "#### Columns of df_1 + df_2 + df_3 add up to the column numbers of the customer_data."
   ]
  },
  {
   "cell_type": "markdown",
   "id": "31b8a9e7-7db9-4604-991b-ef6771603e57",
   "metadata": {},
   "source": [
    "# Challenge 2: Structuring Data"
   ]
  },
  {
   "cell_type": "markdown",
   "id": "541006a8-7f35-4a82-813e-ca10c1183668",
   "metadata": {},
   "source": [
    "In this challenge, we will continue to work with customer data from an insurance company, but we will use a dataset with more columns, called marketing_customer_analysis.csv, which can be found at the following link:\n",
    "\n",
    "https://raw.githubusercontent.com/data-bootcamp-v4/data/main/marketing_customer_analysis.csv\n",
    "\n",
    "This dataset contains information such as customer demographics, policy details, vehicle information, and the customer's response to the last marketing campaign. Our goal is to explore and analyze this data by performing data cleaning, formatting, and structuring."
   ]
  },
  {
   "cell_type": "markdown",
   "id": "2677810d-3180-4fbe-855b-525cf8d35208",
   "metadata": {},
   "source": [
    "## Exercise 1: Clean and Format the Data"
   ]
  },
  {
   "cell_type": "markdown",
   "id": "0aa50045-76ce-4e9f-8836-82dbc689d8dd",
   "metadata": {},
   "source": [
    "While the dataset has been partially cleaned and formatted, we still need to perform several data cleaning tasks. Specifically, we need to standardize the column names, clean null values, convert the effective_to_date column to datetime, and extract the months from the dataset and store them in a separate column. \n",
    "\n",
    "To accomplish these tasks, we will use the functions created in the previous step to standardize the column names and deal with null values, and then we will apply additional functions to convert the effective_to_date column to datetime and extract the months.\n",
    "\n",
    "Save the clean dataset into a csv file."
   ]
  },
  {
   "cell_type": "code",
   "execution_count": 8,
   "id": "aa10d9b0-1c27-4d3f-a8e4-db6ab73bfd26",
   "metadata": {},
   "outputs": [],
   "source": [
    "df = pd.read_csv(\"https://raw.githubusercontent.com/data-bootcamp-v4/data/main/marketing_customer_analysis.csv\")"
   ]
  },
  {
   "cell_type": "code",
   "execution_count": 9,
   "id": "3e8c4643",
   "metadata": {},
   "outputs": [
    {
     "data": {
      "text/plain": [
       "Index(['Unnamed: 0', 'Customer', 'State', 'Customer Lifetime Value',\n",
       "       'Response', 'Coverage', 'Education', 'Effective To Date',\n",
       "       'EmploymentStatus', 'Gender', 'Income', 'Location Code',\n",
       "       'Marital Status', 'Monthly Premium Auto', 'Months Since Last Claim',\n",
       "       'Months Since Policy Inception', 'Number of Open Complaints',\n",
       "       'Number of Policies', 'Policy Type', 'Policy', 'Renew Offer Type',\n",
       "       'Sales Channel', 'Total Claim Amount', 'Vehicle Class', 'Vehicle Size',\n",
       "       'Vehicle Type'],\n",
       "      dtype='object')"
      ]
     },
     "execution_count": 9,
     "metadata": {},
     "output_type": "execute_result"
    }
   ],
   "source": [
    "df.columns"
   ]
  },
  {
   "cell_type": "markdown",
   "id": "67d3526a",
   "metadata": {},
   "source": [
    "### It seems like we have double indexing and should drop the column named \"Unamed: 0\""
   ]
  },
  {
   "cell_type": "code",
   "execution_count": 10,
   "id": "adc0178c",
   "metadata": {},
   "outputs": [],
   "source": [
    "df.drop(columns=[\"Unnamed: 0\"],inplace=True,axis=1)"
   ]
  },
  {
   "cell_type": "markdown",
   "id": "db4c9b6e",
   "metadata": {},
   "source": [
    "### Replacing column names with spaces to underscores and lower casing the column names"
   ]
  },
  {
   "cell_type": "code",
   "execution_count": 11,
   "id": "5d9f0a95",
   "metadata": {},
   "outputs": [],
   "source": [
    "def rename_func(x):\n",
    "    x.rename(columns = {\"GENDER\":\"gender\",\"ST\":\"state\",\"Customer Lifetime Value\":\"customer_lifetime_value\",\n",
    "                       \"Number of Open Complaints\":\"nb_of_open_complaints\",\"Policy Type\":\"policy_type\",\n",
    "                       \"Monthly Premium Auto\":\"monthly_premium_auto\",\"Vehicle Class\":\"vehicle_class\",\n",
    "                       \"Total Claim Amount\":\"total_claim_amount\",\"Effective To Date\":\"effective_to_date\",\n",
    "                        \"EmploymentStatus\":\"employment_status\",\"Location Code\":\"location_code\",\n",
    "                        \"Marital Status\":\"marital_status\",\"Months Since Last Claim\":\"months_since_last_claim\",\n",
    "                       \"Months Since Policy Inception\":\"months_since_policy_inception\",\n",
    "                        \"Number of Policies\":\"nb_of_policies\",\"Renew Offer Type\":\"renew_offer_type\",\n",
    "                       \"Sales Channel\":\"sales_channel\",\"Vehicle Class\":\"vehicle_class\",\n",
    "                        \"Vehicle Size\":\"vehicle_size\",\"Vehicle Type\":\"vehicle_type\"}, inplace=True)\n",
    "    return x"
   ]
  },
  {
   "cell_type": "code",
   "execution_count": 12,
   "id": "a3fbc369",
   "metadata": {},
   "outputs": [],
   "source": [
    "def low_case(x):\n",
    "    x.columns = [i.lower() for i in x.columns]\n",
    "    return x"
   ]
  },
  {
   "cell_type": "code",
   "execution_count": 13,
   "id": "3f4d8ad5",
   "metadata": {},
   "outputs": [],
   "source": [
    "df = rename_func(df)\n",
    "df = low_case(df)"
   ]
  },
  {
   "cell_type": "code",
   "execution_count": 14,
   "id": "ecee6cf2",
   "metadata": {},
   "outputs": [
    {
     "data": {
      "text/plain": [
       "Index(['customer', 'state', 'customer_lifetime_value', 'response', 'coverage',\n",
       "       'education', 'effective_to_date', 'employment_status', 'gender',\n",
       "       'income', 'location_code', 'marital_status', 'monthly_premium_auto',\n",
       "       'months_since_last_claim', 'months_since_policy_inception',\n",
       "       'nb_of_open_complaints', 'nb_of_policies', 'policy_type', 'policy',\n",
       "       'renew_offer_type', 'sales_channel', 'total_claim_amount',\n",
       "       'vehicle_class', 'vehicle_size', 'vehicle_type'],\n",
       "      dtype='object')"
      ]
     },
     "execution_count": 14,
     "metadata": {},
     "output_type": "execute_result"
    }
   ],
   "source": [
    "df.columns"
   ]
  },
  {
   "cell_type": "code",
   "execution_count": 15,
   "id": "e9bf5e1d",
   "metadata": {},
   "outputs": [
    {
     "data": {
      "text/plain": [
       "customer                            0\n",
       "state                             631\n",
       "customer_lifetime_value             0\n",
       "response                          631\n",
       "coverage                            0\n",
       "education                           0\n",
       "effective_to_date                   0\n",
       "employment_status                   0\n",
       "gender                              0\n",
       "income                              0\n",
       "location_code                       0\n",
       "marital_status                      0\n",
       "monthly_premium_auto                0\n",
       "months_since_last_claim           633\n",
       "months_since_policy_inception       0\n",
       "nb_of_open_complaints             633\n",
       "nb_of_policies                      0\n",
       "policy_type                         0\n",
       "policy                              0\n",
       "renew_offer_type                    0\n",
       "sales_channel                       0\n",
       "total_claim_amount                  0\n",
       "vehicle_class                     622\n",
       "vehicle_size                      622\n",
       "vehicle_type                     5482\n",
       "dtype: int64"
      ]
     },
     "execution_count": 15,
     "metadata": {},
     "output_type": "execute_result"
    }
   ],
   "source": [
    "df.isna().sum()"
   ]
  },
  {
   "cell_type": "markdown",
   "id": "fbcb7218",
   "metadata": {},
   "source": [
    "#### Column \"vehicle_type\" has a lot of null values and should be dropped. "
   ]
  },
  {
   "cell_type": "code",
   "execution_count": 16,
   "id": "07928a34",
   "metadata": {},
   "outputs": [],
   "source": [
    "df.drop(columns=[\"vehicle_type\"],inplace=True,axis=1)"
   ]
  },
  {
   "cell_type": "markdown",
   "id": "f8e0cf65",
   "metadata": {},
   "source": [
    "#### Since we still have null values, even after dropping \"vehicle_type\" column. I am going to drop all other NA values."
   ]
  },
  {
   "cell_type": "code",
   "execution_count": 17,
   "id": "ce4c7d6c",
   "metadata": {},
   "outputs": [],
   "source": [
    "def drop_na(x):\n",
    "    x.dropna(inplace=True,ignore_index=True)\n",
    "    return x"
   ]
  },
  {
   "cell_type": "code",
   "execution_count": 18,
   "id": "3f2f63f3",
   "metadata": {},
   "outputs": [
    {
     "data": {
      "text/html": [
       "<div>\n",
       "<style scoped>\n",
       "    .dataframe tbody tr th:only-of-type {\n",
       "        vertical-align: middle;\n",
       "    }\n",
       "\n",
       "    .dataframe tbody tr th {\n",
       "        vertical-align: top;\n",
       "    }\n",
       "\n",
       "    .dataframe thead th {\n",
       "        text-align: right;\n",
       "    }\n",
       "</style>\n",
       "<table border=\"1\" class=\"dataframe\">\n",
       "  <thead>\n",
       "    <tr style=\"text-align: right;\">\n",
       "      <th></th>\n",
       "      <th>customer</th>\n",
       "      <th>state</th>\n",
       "      <th>customer_lifetime_value</th>\n",
       "      <th>response</th>\n",
       "      <th>coverage</th>\n",
       "      <th>education</th>\n",
       "      <th>effective_to_date</th>\n",
       "      <th>employment_status</th>\n",
       "      <th>gender</th>\n",
       "      <th>income</th>\n",
       "      <th>...</th>\n",
       "      <th>months_since_policy_inception</th>\n",
       "      <th>nb_of_open_complaints</th>\n",
       "      <th>nb_of_policies</th>\n",
       "      <th>policy_type</th>\n",
       "      <th>policy</th>\n",
       "      <th>renew_offer_type</th>\n",
       "      <th>sales_channel</th>\n",
       "      <th>total_claim_amount</th>\n",
       "      <th>vehicle_class</th>\n",
       "      <th>vehicle_size</th>\n",
       "    </tr>\n",
       "  </thead>\n",
       "  <tbody>\n",
       "    <tr>\n",
       "      <th>0</th>\n",
       "      <td>DK49336</td>\n",
       "      <td>Arizona</td>\n",
       "      <td>4809.216960</td>\n",
       "      <td>No</td>\n",
       "      <td>Basic</td>\n",
       "      <td>College</td>\n",
       "      <td>2/18/11</td>\n",
       "      <td>Employed</td>\n",
       "      <td>M</td>\n",
       "      <td>48029</td>\n",
       "      <td>...</td>\n",
       "      <td>52</td>\n",
       "      <td>0.0</td>\n",
       "      <td>9</td>\n",
       "      <td>Corporate Auto</td>\n",
       "      <td>Corporate L3</td>\n",
       "      <td>Offer3</td>\n",
       "      <td>Agent</td>\n",
       "      <td>292.800000</td>\n",
       "      <td>Four-Door Car</td>\n",
       "      <td>Medsize</td>\n",
       "    </tr>\n",
       "    <tr>\n",
       "      <th>1</th>\n",
       "      <td>KX64629</td>\n",
       "      <td>California</td>\n",
       "      <td>2228.525238</td>\n",
       "      <td>No</td>\n",
       "      <td>Basic</td>\n",
       "      <td>College</td>\n",
       "      <td>1/18/11</td>\n",
       "      <td>Unemployed</td>\n",
       "      <td>F</td>\n",
       "      <td>0</td>\n",
       "      <td>...</td>\n",
       "      <td>26</td>\n",
       "      <td>0.0</td>\n",
       "      <td>1</td>\n",
       "      <td>Personal Auto</td>\n",
       "      <td>Personal L3</td>\n",
       "      <td>Offer4</td>\n",
       "      <td>Call Center</td>\n",
       "      <td>744.924331</td>\n",
       "      <td>Four-Door Car</td>\n",
       "      <td>Medsize</td>\n",
       "    </tr>\n",
       "    <tr>\n",
       "      <th>2</th>\n",
       "      <td>LZ68649</td>\n",
       "      <td>Washington</td>\n",
       "      <td>14947.917300</td>\n",
       "      <td>No</td>\n",
       "      <td>Basic</td>\n",
       "      <td>Bachelor</td>\n",
       "      <td>2/10/11</td>\n",
       "      <td>Employed</td>\n",
       "      <td>M</td>\n",
       "      <td>22139</td>\n",
       "      <td>...</td>\n",
       "      <td>31</td>\n",
       "      <td>0.0</td>\n",
       "      <td>2</td>\n",
       "      <td>Personal Auto</td>\n",
       "      <td>Personal L3</td>\n",
       "      <td>Offer3</td>\n",
       "      <td>Call Center</td>\n",
       "      <td>480.000000</td>\n",
       "      <td>SUV</td>\n",
       "      <td>Medsize</td>\n",
       "    </tr>\n",
       "    <tr>\n",
       "      <th>3</th>\n",
       "      <td>XL78013</td>\n",
       "      <td>Oregon</td>\n",
       "      <td>22332.439460</td>\n",
       "      <td>Yes</td>\n",
       "      <td>Extended</td>\n",
       "      <td>College</td>\n",
       "      <td>1/11/11</td>\n",
       "      <td>Employed</td>\n",
       "      <td>M</td>\n",
       "      <td>49078</td>\n",
       "      <td>...</td>\n",
       "      <td>3</td>\n",
       "      <td>0.0</td>\n",
       "      <td>2</td>\n",
       "      <td>Corporate Auto</td>\n",
       "      <td>Corporate L3</td>\n",
       "      <td>Offer2</td>\n",
       "      <td>Branch</td>\n",
       "      <td>484.013411</td>\n",
       "      <td>Four-Door Car</td>\n",
       "      <td>Medsize</td>\n",
       "    </tr>\n",
       "    <tr>\n",
       "      <th>4</th>\n",
       "      <td>IW72280</td>\n",
       "      <td>California</td>\n",
       "      <td>5035.035257</td>\n",
       "      <td>No</td>\n",
       "      <td>Basic</td>\n",
       "      <td>Doctor</td>\n",
       "      <td>2/14/11</td>\n",
       "      <td>Employed</td>\n",
       "      <td>F</td>\n",
       "      <td>37405</td>\n",
       "      <td>...</td>\n",
       "      <td>99</td>\n",
       "      <td>3.0</td>\n",
       "      <td>4</td>\n",
       "      <td>Corporate Auto</td>\n",
       "      <td>Corporate L2</td>\n",
       "      <td>Offer2</td>\n",
       "      <td>Branch</td>\n",
       "      <td>287.556107</td>\n",
       "      <td>Four-Door Car</td>\n",
       "      <td>Medsize</td>\n",
       "    </tr>\n",
       "    <tr>\n",
       "      <th>...</th>\n",
       "      <td>...</td>\n",
       "      <td>...</td>\n",
       "      <td>...</td>\n",
       "      <td>...</td>\n",
       "      <td>...</td>\n",
       "      <td>...</td>\n",
       "      <td>...</td>\n",
       "      <td>...</td>\n",
       "      <td>...</td>\n",
       "      <td>...</td>\n",
       "      <td>...</td>\n",
       "      <td>...</td>\n",
       "      <td>...</td>\n",
       "      <td>...</td>\n",
       "      <td>...</td>\n",
       "      <td>...</td>\n",
       "      <td>...</td>\n",
       "      <td>...</td>\n",
       "      <td>...</td>\n",
       "      <td>...</td>\n",
       "      <td>...</td>\n",
       "    </tr>\n",
       "    <tr>\n",
       "      <th>9129</th>\n",
       "      <td>SU71163</td>\n",
       "      <td>Arizona</td>\n",
       "      <td>2771.663013</td>\n",
       "      <td>No</td>\n",
       "      <td>Basic</td>\n",
       "      <td>College</td>\n",
       "      <td>1/7/11</td>\n",
       "      <td>Employed</td>\n",
       "      <td>M</td>\n",
       "      <td>59855</td>\n",
       "      <td>...</td>\n",
       "      <td>82</td>\n",
       "      <td>4.0</td>\n",
       "      <td>1</td>\n",
       "      <td>Personal Auto</td>\n",
       "      <td>Personal L2</td>\n",
       "      <td>Offer2</td>\n",
       "      <td>Branch</td>\n",
       "      <td>355.200000</td>\n",
       "      <td>Two-Door Car</td>\n",
       "      <td>Medsize</td>\n",
       "    </tr>\n",
       "    <tr>\n",
       "      <th>9130</th>\n",
       "      <td>QI63521</td>\n",
       "      <td>Nevada</td>\n",
       "      <td>19228.463620</td>\n",
       "      <td>No</td>\n",
       "      <td>Basic</td>\n",
       "      <td>High School or Below</td>\n",
       "      <td>2/24/11</td>\n",
       "      <td>Unemployed</td>\n",
       "      <td>M</td>\n",
       "      <td>0</td>\n",
       "      <td>...</td>\n",
       "      <td>32</td>\n",
       "      <td>0.0</td>\n",
       "      <td>2</td>\n",
       "      <td>Personal Auto</td>\n",
       "      <td>Personal L2</td>\n",
       "      <td>Offer1</td>\n",
       "      <td>Branch</td>\n",
       "      <td>897.600000</td>\n",
       "      <td>Luxury SUV</td>\n",
       "      <td>Medsize</td>\n",
       "    </tr>\n",
       "    <tr>\n",
       "      <th>9131</th>\n",
       "      <td>KX53892</td>\n",
       "      <td>Oregon</td>\n",
       "      <td>5259.444853</td>\n",
       "      <td>No</td>\n",
       "      <td>Basic</td>\n",
       "      <td>College</td>\n",
       "      <td>1/6/11</td>\n",
       "      <td>Employed</td>\n",
       "      <td>F</td>\n",
       "      <td>61146</td>\n",
       "      <td>...</td>\n",
       "      <td>68</td>\n",
       "      <td>0.0</td>\n",
       "      <td>6</td>\n",
       "      <td>Personal Auto</td>\n",
       "      <td>Personal L3</td>\n",
       "      <td>Offer2</td>\n",
       "      <td>Branch</td>\n",
       "      <td>273.018929</td>\n",
       "      <td>Four-Door Car</td>\n",
       "      <td>Medsize</td>\n",
       "    </tr>\n",
       "    <tr>\n",
       "      <th>9132</th>\n",
       "      <td>TL39050</td>\n",
       "      <td>Arizona</td>\n",
       "      <td>23893.304100</td>\n",
       "      <td>No</td>\n",
       "      <td>Extended</td>\n",
       "      <td>Bachelor</td>\n",
       "      <td>2/6/11</td>\n",
       "      <td>Employed</td>\n",
       "      <td>F</td>\n",
       "      <td>39837</td>\n",
       "      <td>...</td>\n",
       "      <td>63</td>\n",
       "      <td>0.0</td>\n",
       "      <td>2</td>\n",
       "      <td>Corporate Auto</td>\n",
       "      <td>Corporate L3</td>\n",
       "      <td>Offer1</td>\n",
       "      <td>Web</td>\n",
       "      <td>381.306996</td>\n",
       "      <td>Luxury SUV</td>\n",
       "      <td>Medsize</td>\n",
       "    </tr>\n",
       "    <tr>\n",
       "      <th>9133</th>\n",
       "      <td>WA60547</td>\n",
       "      <td>California</td>\n",
       "      <td>11971.977650</td>\n",
       "      <td>No</td>\n",
       "      <td>Premium</td>\n",
       "      <td>College</td>\n",
       "      <td>2/13/11</td>\n",
       "      <td>Employed</td>\n",
       "      <td>F</td>\n",
       "      <td>64195</td>\n",
       "      <td>...</td>\n",
       "      <td>27</td>\n",
       "      <td>4.0</td>\n",
       "      <td>6</td>\n",
       "      <td>Personal Auto</td>\n",
       "      <td>Personal L1</td>\n",
       "      <td>Offer1</td>\n",
       "      <td>Branch</td>\n",
       "      <td>618.288849</td>\n",
       "      <td>SUV</td>\n",
       "      <td>Medsize</td>\n",
       "    </tr>\n",
       "  </tbody>\n",
       "</table>\n",
       "<p>9134 rows × 24 columns</p>\n",
       "</div>"
      ],
      "text/plain": [
       "     customer       state  customer_lifetime_value response  coverage  \\\n",
       "0     DK49336     Arizona              4809.216960       No     Basic   \n",
       "1     KX64629  California              2228.525238       No     Basic   \n",
       "2     LZ68649  Washington             14947.917300       No     Basic   \n",
       "3     XL78013      Oregon             22332.439460      Yes  Extended   \n",
       "4     IW72280  California              5035.035257       No     Basic   \n",
       "...       ...         ...                      ...      ...       ...   \n",
       "9129  SU71163     Arizona              2771.663013       No     Basic   \n",
       "9130  QI63521      Nevada             19228.463620       No     Basic   \n",
       "9131  KX53892      Oregon              5259.444853       No     Basic   \n",
       "9132  TL39050     Arizona             23893.304100       No  Extended   \n",
       "9133  WA60547  California             11971.977650       No   Premium   \n",
       "\n",
       "                 education effective_to_date employment_status gender  income  \\\n",
       "0                  College           2/18/11          Employed      M   48029   \n",
       "1                  College           1/18/11        Unemployed      F       0   \n",
       "2                 Bachelor           2/10/11          Employed      M   22139   \n",
       "3                  College           1/11/11          Employed      M   49078   \n",
       "4                   Doctor           2/14/11          Employed      F   37405   \n",
       "...                    ...               ...               ...    ...     ...   \n",
       "9129               College            1/7/11          Employed      M   59855   \n",
       "9130  High School or Below           2/24/11        Unemployed      M       0   \n",
       "9131               College            1/6/11          Employed      F   61146   \n",
       "9132              Bachelor            2/6/11          Employed      F   39837   \n",
       "9133               College           2/13/11          Employed      F   64195   \n",
       "\n",
       "      ... months_since_policy_inception nb_of_open_complaints  nb_of_policies  \\\n",
       "0     ...                            52                   0.0               9   \n",
       "1     ...                            26                   0.0               1   \n",
       "2     ...                            31                   0.0               2   \n",
       "3     ...                             3                   0.0               2   \n",
       "4     ...                            99                   3.0               4   \n",
       "...   ...                           ...                   ...             ...   \n",
       "9129  ...                            82                   4.0               1   \n",
       "9130  ...                            32                   0.0               2   \n",
       "9131  ...                            68                   0.0               6   \n",
       "9132  ...                            63                   0.0               2   \n",
       "9133  ...                            27                   4.0               6   \n",
       "\n",
       "         policy_type        policy  renew_offer_type  sales_channel  \\\n",
       "0     Corporate Auto  Corporate L3            Offer3          Agent   \n",
       "1      Personal Auto   Personal L3            Offer4    Call Center   \n",
       "2      Personal Auto   Personal L3            Offer3    Call Center   \n",
       "3     Corporate Auto  Corporate L3            Offer2         Branch   \n",
       "4     Corporate Auto  Corporate L2            Offer2         Branch   \n",
       "...              ...           ...               ...            ...   \n",
       "9129   Personal Auto   Personal L2            Offer2         Branch   \n",
       "9130   Personal Auto   Personal L2            Offer1         Branch   \n",
       "9131   Personal Auto   Personal L3            Offer2         Branch   \n",
       "9132  Corporate Auto  Corporate L3            Offer1            Web   \n",
       "9133   Personal Auto   Personal L1            Offer1         Branch   \n",
       "\n",
       "     total_claim_amount  vehicle_class vehicle_size  \n",
       "0            292.800000  Four-Door Car      Medsize  \n",
       "1            744.924331  Four-Door Car      Medsize  \n",
       "2            480.000000            SUV      Medsize  \n",
       "3            484.013411  Four-Door Car      Medsize  \n",
       "4            287.556107  Four-Door Car      Medsize  \n",
       "...                 ...            ...          ...  \n",
       "9129         355.200000   Two-Door Car      Medsize  \n",
       "9130         897.600000     Luxury SUV      Medsize  \n",
       "9131         273.018929  Four-Door Car      Medsize  \n",
       "9132         381.306996     Luxury SUV      Medsize  \n",
       "9133         618.288849            SUV      Medsize  \n",
       "\n",
       "[9134 rows x 24 columns]"
      ]
     },
     "execution_count": 18,
     "metadata": {},
     "output_type": "execute_result"
    }
   ],
   "source": [
    "drop_na(df)"
   ]
  },
  {
   "cell_type": "markdown",
   "id": "fa501fbf",
   "metadata": {},
   "source": [
    "#### Creating a function that changes the effective_to_date column to datatime"
   ]
  },
  {
   "cell_type": "code",
   "execution_count": 19,
   "id": "1fec537a",
   "metadata": {},
   "outputs": [],
   "source": [
    "def cov_to_datetime(x):\n",
    "    x[\"effective_to_date\"] = pd.to_datetime(x[\"effective_to_date\"], format=\"%m/%d/%y\")\n",
    "    return x"
   ]
  },
  {
   "cell_type": "code",
   "execution_count": 20,
   "id": "45b2b241",
   "metadata": {},
   "outputs": [],
   "source": [
    "df = cov_to_datetime(df)"
   ]
  },
  {
   "cell_type": "code",
   "execution_count": 21,
   "id": "f8345848",
   "metadata": {},
   "outputs": [
    {
     "data": {
      "text/html": [
       "<div>\n",
       "<style scoped>\n",
       "    .dataframe tbody tr th:only-of-type {\n",
       "        vertical-align: middle;\n",
       "    }\n",
       "\n",
       "    .dataframe tbody tr th {\n",
       "        vertical-align: top;\n",
       "    }\n",
       "\n",
       "    .dataframe thead th {\n",
       "        text-align: right;\n",
       "    }\n",
       "</style>\n",
       "<table border=\"1\" class=\"dataframe\">\n",
       "  <thead>\n",
       "    <tr style=\"text-align: right;\">\n",
       "      <th></th>\n",
       "      <th>customer</th>\n",
       "      <th>state</th>\n",
       "      <th>customer_lifetime_value</th>\n",
       "      <th>response</th>\n",
       "      <th>coverage</th>\n",
       "      <th>education</th>\n",
       "      <th>effective_to_date</th>\n",
       "      <th>employment_status</th>\n",
       "      <th>gender</th>\n",
       "      <th>income</th>\n",
       "      <th>...</th>\n",
       "      <th>months_since_policy_inception</th>\n",
       "      <th>nb_of_open_complaints</th>\n",
       "      <th>nb_of_policies</th>\n",
       "      <th>policy_type</th>\n",
       "      <th>policy</th>\n",
       "      <th>renew_offer_type</th>\n",
       "      <th>sales_channel</th>\n",
       "      <th>total_claim_amount</th>\n",
       "      <th>vehicle_class</th>\n",
       "      <th>vehicle_size</th>\n",
       "    </tr>\n",
       "  </thead>\n",
       "  <tbody>\n",
       "    <tr>\n",
       "      <th>0</th>\n",
       "      <td>DK49336</td>\n",
       "      <td>Arizona</td>\n",
       "      <td>4809.216960</td>\n",
       "      <td>No</td>\n",
       "      <td>Basic</td>\n",
       "      <td>College</td>\n",
       "      <td>2011-02-18</td>\n",
       "      <td>Employed</td>\n",
       "      <td>M</td>\n",
       "      <td>48029</td>\n",
       "      <td>...</td>\n",
       "      <td>52</td>\n",
       "      <td>0.0</td>\n",
       "      <td>9</td>\n",
       "      <td>Corporate Auto</td>\n",
       "      <td>Corporate L3</td>\n",
       "      <td>Offer3</td>\n",
       "      <td>Agent</td>\n",
       "      <td>292.800000</td>\n",
       "      <td>Four-Door Car</td>\n",
       "      <td>Medsize</td>\n",
       "    </tr>\n",
       "    <tr>\n",
       "      <th>1</th>\n",
       "      <td>KX64629</td>\n",
       "      <td>California</td>\n",
       "      <td>2228.525238</td>\n",
       "      <td>No</td>\n",
       "      <td>Basic</td>\n",
       "      <td>College</td>\n",
       "      <td>2011-01-18</td>\n",
       "      <td>Unemployed</td>\n",
       "      <td>F</td>\n",
       "      <td>0</td>\n",
       "      <td>...</td>\n",
       "      <td>26</td>\n",
       "      <td>0.0</td>\n",
       "      <td>1</td>\n",
       "      <td>Personal Auto</td>\n",
       "      <td>Personal L3</td>\n",
       "      <td>Offer4</td>\n",
       "      <td>Call Center</td>\n",
       "      <td>744.924331</td>\n",
       "      <td>Four-Door Car</td>\n",
       "      <td>Medsize</td>\n",
       "    </tr>\n",
       "    <tr>\n",
       "      <th>2</th>\n",
       "      <td>LZ68649</td>\n",
       "      <td>Washington</td>\n",
       "      <td>14947.917300</td>\n",
       "      <td>No</td>\n",
       "      <td>Basic</td>\n",
       "      <td>Bachelor</td>\n",
       "      <td>2011-02-10</td>\n",
       "      <td>Employed</td>\n",
       "      <td>M</td>\n",
       "      <td>22139</td>\n",
       "      <td>...</td>\n",
       "      <td>31</td>\n",
       "      <td>0.0</td>\n",
       "      <td>2</td>\n",
       "      <td>Personal Auto</td>\n",
       "      <td>Personal L3</td>\n",
       "      <td>Offer3</td>\n",
       "      <td>Call Center</td>\n",
       "      <td>480.000000</td>\n",
       "      <td>SUV</td>\n",
       "      <td>Medsize</td>\n",
       "    </tr>\n",
       "    <tr>\n",
       "      <th>3</th>\n",
       "      <td>XL78013</td>\n",
       "      <td>Oregon</td>\n",
       "      <td>22332.439460</td>\n",
       "      <td>Yes</td>\n",
       "      <td>Extended</td>\n",
       "      <td>College</td>\n",
       "      <td>2011-01-11</td>\n",
       "      <td>Employed</td>\n",
       "      <td>M</td>\n",
       "      <td>49078</td>\n",
       "      <td>...</td>\n",
       "      <td>3</td>\n",
       "      <td>0.0</td>\n",
       "      <td>2</td>\n",
       "      <td>Corporate Auto</td>\n",
       "      <td>Corporate L3</td>\n",
       "      <td>Offer2</td>\n",
       "      <td>Branch</td>\n",
       "      <td>484.013411</td>\n",
       "      <td>Four-Door Car</td>\n",
       "      <td>Medsize</td>\n",
       "    </tr>\n",
       "    <tr>\n",
       "      <th>4</th>\n",
       "      <td>IW72280</td>\n",
       "      <td>California</td>\n",
       "      <td>5035.035257</td>\n",
       "      <td>No</td>\n",
       "      <td>Basic</td>\n",
       "      <td>Doctor</td>\n",
       "      <td>2011-02-14</td>\n",
       "      <td>Employed</td>\n",
       "      <td>F</td>\n",
       "      <td>37405</td>\n",
       "      <td>...</td>\n",
       "      <td>99</td>\n",
       "      <td>3.0</td>\n",
       "      <td>4</td>\n",
       "      <td>Corporate Auto</td>\n",
       "      <td>Corporate L2</td>\n",
       "      <td>Offer2</td>\n",
       "      <td>Branch</td>\n",
       "      <td>287.556107</td>\n",
       "      <td>Four-Door Car</td>\n",
       "      <td>Medsize</td>\n",
       "    </tr>\n",
       "  </tbody>\n",
       "</table>\n",
       "<p>5 rows × 24 columns</p>\n",
       "</div>"
      ],
      "text/plain": [
       "  customer       state  customer_lifetime_value response  coverage education  \\\n",
       "0  DK49336     Arizona              4809.216960       No     Basic   College   \n",
       "1  KX64629  California              2228.525238       No     Basic   College   \n",
       "2  LZ68649  Washington             14947.917300       No     Basic  Bachelor   \n",
       "3  XL78013      Oregon             22332.439460      Yes  Extended   College   \n",
       "4  IW72280  California              5035.035257       No     Basic    Doctor   \n",
       "\n",
       "  effective_to_date employment_status gender  income  ...  \\\n",
       "0        2011-02-18          Employed      M   48029  ...   \n",
       "1        2011-01-18        Unemployed      F       0  ...   \n",
       "2        2011-02-10          Employed      M   22139  ...   \n",
       "3        2011-01-11          Employed      M   49078  ...   \n",
       "4        2011-02-14          Employed      F   37405  ...   \n",
       "\n",
       "  months_since_policy_inception nb_of_open_complaints  nb_of_policies  \\\n",
       "0                            52                   0.0               9   \n",
       "1                            26                   0.0               1   \n",
       "2                            31                   0.0               2   \n",
       "3                             3                   0.0               2   \n",
       "4                            99                   3.0               4   \n",
       "\n",
       "      policy_type        policy  renew_offer_type  sales_channel  \\\n",
       "0  Corporate Auto  Corporate L3            Offer3          Agent   \n",
       "1   Personal Auto   Personal L3            Offer4    Call Center   \n",
       "2   Personal Auto   Personal L3            Offer3    Call Center   \n",
       "3  Corporate Auto  Corporate L3            Offer2         Branch   \n",
       "4  Corporate Auto  Corporate L2            Offer2         Branch   \n",
       "\n",
       "  total_claim_amount  vehicle_class vehicle_size  \n",
       "0         292.800000  Four-Door Car      Medsize  \n",
       "1         744.924331  Four-Door Car      Medsize  \n",
       "2         480.000000            SUV      Medsize  \n",
       "3         484.013411  Four-Door Car      Medsize  \n",
       "4         287.556107  Four-Door Car      Medsize  \n",
       "\n",
       "[5 rows x 24 columns]"
      ]
     },
     "execution_count": 21,
     "metadata": {},
     "output_type": "execute_result"
    }
   ],
   "source": [
    "df.head()"
   ]
  },
  {
   "cell_type": "markdown",
   "id": "983b1f1f",
   "metadata": {},
   "source": [
    "#### The nb_of_open_complaints column should be changed to an integer datatype."
   ]
  },
  {
   "cell_type": "code",
   "execution_count": 22,
   "id": "4754d925",
   "metadata": {},
   "outputs": [],
   "source": [
    "def clean_complaints(x):\n",
    "    x[\"nb_of_open_complaints\"] = x[\"nb_of_open_complaints\"].astype(\"int64\")\n",
    "    return x"
   ]
  },
  {
   "cell_type": "code",
   "execution_count": 23,
   "id": "76487b45",
   "metadata": {},
   "outputs": [],
   "source": [
    "df = clean_complaints(df)"
   ]
  },
  {
   "cell_type": "markdown",
   "id": "e4c180b1",
   "metadata": {},
   "source": [
    "#### Extracting months from the dataset and storing them to a new column"
   ]
  },
  {
   "cell_type": "code",
   "execution_count": 24,
   "id": "7def7781",
   "metadata": {},
   "outputs": [],
   "source": [
    "def extract_month(x):\n",
    "    x = pd.DatetimeIndex(x).month\n",
    "    return x"
   ]
  },
  {
   "cell_type": "code",
   "execution_count": 25,
   "id": "1a847d69",
   "metadata": {},
   "outputs": [],
   "source": [
    "df[\"months\"] = extract_month(df[\"effective_to_date\"])"
   ]
  },
  {
   "cell_type": "markdown",
   "id": "2f658e5d",
   "metadata": {},
   "source": [
    "#### Placing the months column next to the effective_to_date column"
   ]
  },
  {
   "cell_type": "code",
   "execution_count": 26,
   "id": "a12f9434",
   "metadata": {},
   "outputs": [
    {
     "data": {
      "text/plain": [
       "6"
      ]
     },
     "execution_count": 26,
     "metadata": {},
     "output_type": "execute_result"
    }
   ],
   "source": [
    "df.columns.get_loc(\"effective_to_date\")"
   ]
  },
  {
   "cell_type": "code",
   "execution_count": 27,
   "id": "18afdd91",
   "metadata": {},
   "outputs": [],
   "source": [
    "df.insert(7, \"months\", df.pop(\"months\"))"
   ]
  },
  {
   "cell_type": "code",
   "execution_count": 31,
   "id": "eadbe2a5",
   "metadata": {},
   "outputs": [],
   "source": [
    "# Note to self: Python lets you externally modify an object without the need of saving the changes \n",
    "# into the/a new variable (as long as the object is mutable type).\n",
    "# For that reason you can operate into df without needing to make the insert function return a new instance of df.\n",
    "# This does not always apply; for instance, string are non-mutable, so they need re-assignment."
   ]
  },
  {
   "cell_type": "markdown",
   "id": "80f846bb-3f5e-4ca2-96c0-900728daca5a",
   "metadata": {
    "tags": []
   },
   "source": [
    "## Exercise 2: Structuring Data"
   ]
  },
  {
   "cell_type": "markdown",
   "id": "df35fd0d-513e-4e77-867e-429da10a9cc7",
   "metadata": {},
   "source": [
    "1. You work at the marketing department and you want to know which sales channel brought the most sales in terms of total revenue. Using pivot, create a summary table showing the total revenue for each sales channel (branch, call center, web, and mail).\n",
    "Round the total_claim_amount to 2 decimal points.  Analyze the resulting table to draw insights."
   ]
  },
  {
   "cell_type": "markdown",
   "id": "640993b2-a291-436c-a34d-a551144f8196",
   "metadata": {},
   "source": [
    "2. Create a pivot table that shows the average customer lifetime value per gender and education level. Analyze the resulting table to draw insights."
   ]
  },
  {
   "cell_type": "markdown",
   "id": "32c7f2e5-3d90-43e5-be33-9781b6069198",
   "metadata": {},
   "source": [
    "3. You work at the customer service department and you want to know which months had the highest number of complaints by policy type category. Create a summary table showing the number of complaints by policy type and month.\n",
    "Show it in a long format table. "
   ]
  },
  {
   "cell_type": "markdown",
   "id": "e3d09a8f-953c-448a-a5f8-2e5a8cca7291",
   "metadata": {},
   "source": [
    "*In data analysis, a long format table is a way of structuring data in which each observation or measurement is stored in a separate row of the table. The key characteristic of a long format table is that each column represents a single variable, and each row represents a single observation of that variable.*\n",
    "\n",
    "*More information about long and wide format tables here: https://www.statology.org/long-vs-wide-data/*"
   ]
  },
  {
   "cell_type": "code",
   "execution_count": 29,
   "id": "3a069e0b-b400-470e-904d-d17582191be4",
   "metadata": {},
   "outputs": [],
   "source": [
    "pivot_table = pd.pivot_table(df, values =\"total_claim_amount\", index=\"sales_channel\", aggfunc=\"sum\").round(2)"
   ]
  },
  {
   "cell_type": "code",
   "execution_count": 32,
   "id": "4e6abe1b",
   "metadata": {},
   "outputs": [
    {
     "data": {
      "text/html": [
       "<div>\n",
       "<style scoped>\n",
       "    .dataframe tbody tr th:only-of-type {\n",
       "        vertical-align: middle;\n",
       "    }\n",
       "\n",
       "    .dataframe tbody tr th {\n",
       "        vertical-align: top;\n",
       "    }\n",
       "\n",
       "    .dataframe thead th {\n",
       "        text-align: right;\n",
       "    }\n",
       "</style>\n",
       "<table border=\"1\" class=\"dataframe\">\n",
       "  <thead>\n",
       "    <tr style=\"text-align: right;\">\n",
       "      <th></th>\n",
       "      <th>total_claim_amount</th>\n",
       "    </tr>\n",
       "    <tr>\n",
       "      <th>sales_channel</th>\n",
       "      <th></th>\n",
       "    </tr>\n",
       "  </thead>\n",
       "  <tbody>\n",
       "    <tr>\n",
       "      <th>Agent</th>\n",
       "      <td>1524437.36</td>\n",
       "    </tr>\n",
       "    <tr>\n",
       "      <th>Branch</th>\n",
       "      <td>1111169.08</td>\n",
       "    </tr>\n",
       "    <tr>\n",
       "      <th>Call Center</th>\n",
       "      <td>755639.96</td>\n",
       "    </tr>\n",
       "    <tr>\n",
       "      <th>Web</th>\n",
       "      <td>573720.65</td>\n",
       "    </tr>\n",
       "  </tbody>\n",
       "</table>\n",
       "</div>"
      ],
      "text/plain": [
       "               total_claim_amount\n",
       "sales_channel                    \n",
       "Agent                  1524437.36\n",
       "Branch                 1111169.08\n",
       "Call Center             755639.96\n",
       "Web                     573720.65"
      ]
     },
     "execution_count": 32,
     "metadata": {},
     "output_type": "execute_result"
    }
   ],
   "source": [
    "pivot_table"
   ]
  },
  {
   "cell_type": "markdown",
   "id": "7db93b77",
   "metadata": {},
   "source": [
    "### From the table, we can infer that customers aquired through an Agent are the customers that cost the company the most since total_claim_amount is a cost for the company and not a revenue."
   ]
  },
  {
   "cell_type": "code",
   "execution_count": 50,
   "id": "52e52aed",
   "metadata": {},
   "outputs": [],
   "source": [
    "piv_table = pd.pivot_table(df, values =\"customer_lifetime_value\", index=[\"gender\",\"education\"], aggfunc=\"mean\")"
   ]
  },
  {
   "cell_type": "code",
   "execution_count": 51,
   "id": "9b9d1391",
   "metadata": {},
   "outputs": [
    {
     "data": {
      "text/html": [
       "<div>\n",
       "<style scoped>\n",
       "    .dataframe tbody tr th:only-of-type {\n",
       "        vertical-align: middle;\n",
       "    }\n",
       "\n",
       "    .dataframe tbody tr th {\n",
       "        vertical-align: top;\n",
       "    }\n",
       "\n",
       "    .dataframe thead th {\n",
       "        text-align: right;\n",
       "    }\n",
       "</style>\n",
       "<table border=\"1\" class=\"dataframe\">\n",
       "  <thead>\n",
       "    <tr style=\"text-align: right;\">\n",
       "      <th></th>\n",
       "      <th></th>\n",
       "      <th>customer_lifetime_value</th>\n",
       "    </tr>\n",
       "    <tr>\n",
       "      <th>gender</th>\n",
       "      <th>education</th>\n",
       "      <th></th>\n",
       "    </tr>\n",
       "  </thead>\n",
       "  <tbody>\n",
       "    <tr>\n",
       "      <th rowspan=\"5\" valign=\"top\">F</th>\n",
       "      <th>Bachelor</th>\n",
       "      <td>8012.877921</td>\n",
       "    </tr>\n",
       "    <tr>\n",
       "      <th>College</th>\n",
       "      <td>7732.833339</td>\n",
       "    </tr>\n",
       "    <tr>\n",
       "      <th>Doctor</th>\n",
       "      <td>7423.630380</td>\n",
       "    </tr>\n",
       "    <tr>\n",
       "      <th>High School or Below</th>\n",
       "      <td>8578.995840</td>\n",
       "    </tr>\n",
       "    <tr>\n",
       "      <th>Master</th>\n",
       "      <td>8319.111562</td>\n",
       "    </tr>\n",
       "    <tr>\n",
       "      <th rowspan=\"5\" valign=\"top\">M</th>\n",
       "      <th>Bachelor</th>\n",
       "      <td>7722.072099</td>\n",
       "    </tr>\n",
       "    <tr>\n",
       "      <th>College</th>\n",
       "      <td>7971.342089</td>\n",
       "    </tr>\n",
       "    <tr>\n",
       "      <th>Doctor</th>\n",
       "      <td>7614.823122</td>\n",
       "    </tr>\n",
       "    <tr>\n",
       "      <th>High School or Below</th>\n",
       "      <td>8010.082690</td>\n",
       "    </tr>\n",
       "    <tr>\n",
       "      <th>Master</th>\n",
       "      <td>8158.078485</td>\n",
       "    </tr>\n",
       "  </tbody>\n",
       "</table>\n",
       "</div>"
      ],
      "text/plain": [
       "                             customer_lifetime_value\n",
       "gender education                                    \n",
       "F      Bachelor                          8012.877921\n",
       "       College                           7732.833339\n",
       "       Doctor                            7423.630380\n",
       "       High School or Below              8578.995840\n",
       "       Master                            8319.111562\n",
       "M      Bachelor                          7722.072099\n",
       "       College                           7971.342089\n",
       "       Doctor                            7614.823122\n",
       "       High School or Below              8010.082690\n",
       "       Master                            8158.078485"
      ]
     },
     "execution_count": 51,
     "metadata": {},
     "output_type": "execute_result"
    }
   ],
   "source": [
    "piv_table"
   ]
  },
  {
   "cell_type": "markdown",
   "id": "53600f30",
   "metadata": {},
   "source": [
    "### 1. We notice that the customer lifetime value for males and females with a Doctor degree is the lowest.\n",
    "### 2. Customers with Master or \"High School or Below\" degrees have the highest lifetime values for males and females.\n",
    "### 3. Male customers with a master's education have the highest lifetime value. However, female customers with a high school degree or below have the highest lifetime value."
   ]
  },
  {
   "cell_type": "code",
   "execution_count": 52,
   "id": "688c0676",
   "metadata": {},
   "outputs": [],
   "source": [
    "pivot_ross = pd.pivot_table(df, values =\"nb_of_open_complaints\", index=[\"policy_type\",\"months\"], aggfunc=\"sum\")"
   ]
  },
  {
   "cell_type": "code",
   "execution_count": 53,
   "id": "e83a483a",
   "metadata": {},
   "outputs": [
    {
     "name": "stdout",
     "output_type": "stream",
     "text": [
      "                       nb_of_open_complaints\n",
      "policy_type    months                       \n",
      "Corporate Auto 1                         367\n",
      "               2                         338\n",
      "Personal Auto  1                        1465\n",
      "               2                        1190\n",
      "Special Auto   1                          77\n",
      "               2                          74\n"
     ]
    }
   ],
   "source": [
    "print(pivot_ross)"
   ]
  }
 ],
 "metadata": {
  "kernelspec": {
   "display_name": "Python 3 (ipykernel)",
   "language": "python",
   "name": "python3"
  },
  "language_info": {
   "codemirror_mode": {
    "name": "ipython",
    "version": 3
   },
   "file_extension": ".py",
   "mimetype": "text/x-python",
   "name": "python",
   "nbconvert_exporter": "python",
   "pygments_lexer": "ipython3",
   "version": "3.10.9"
  }
 },
 "nbformat": 4,
 "nbformat_minor": 5
}
