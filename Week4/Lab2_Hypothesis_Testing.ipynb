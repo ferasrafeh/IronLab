{
 "cells": [
  {
   "cell_type": "code",
   "execution_count": 1,
   "id": "29a4cea8",
   "metadata": {},
   "outputs": [],
   "source": [
    "import numpy as np\n",
    "import pandas as pd\n",
    "import scipy.stats as stats\n",
    "import matplotlib.pyplot as plt\n",
    "import seaborn as sns\n",
    "\n",
    "%matplotlib inline"
   ]
  },
  {
   "cell_type": "markdown",
   "id": "b8396ad3",
   "metadata": {},
   "source": [
    "Optional\n",
    "In a packing plant, a machine packs cartons with jars. It is supposed that a new machine will pack faster on the average than the machine currently used. To test that hypothesis, the times it takes each machine to pack ten cartons are recorded. The results, in seconds, are shown in the tables in the file Data/machine.txt. Assume that there is sufficient evidence to conduct the t test, does the data provide sufficient evidence to show if one machine is better than the other.\n",
    "Hint: use two sample t-test\n",
    "\n",
    "t= (sample_mean(x1) - sample_mean(x2)) / sqrt(square(s1)/n1 + square(s2)/n2 )"
   ]
  },
  {
   "cell_type": "markdown",
   "id": "61a1d0fa",
   "metadata": {},
   "source": [
    "### 1. Null hypothesis(H0): there is no difference between the means of the two machines. Mean New = Mean Old\n",
    "### 2. H1 : Mean New != Mean Old"
   ]
  },
  {
   "cell_type": "code",
   "execution_count": 2,
   "id": "1da6d333",
   "metadata": {},
   "outputs": [],
   "source": [
    "New_Machine = [42.1,41,41.3,41.8,42.4,42.8,43.2,42.3,41.8,42.7]\n",
    "Old_Machine = [42.7,43.6,43.8,43.3,42.5,43.5,43.1,41.7,44,44.1]"
   ]
  },
  {
   "cell_type": "code",
   "execution_count": 3,
   "id": "567de780",
   "metadata": {},
   "outputs": [],
   "source": [
    "mean_new = np.average(New_Machine)"
   ]
  },
  {
   "cell_type": "code",
   "execution_count": 4,
   "id": "ddfbae23",
   "metadata": {},
   "outputs": [],
   "source": [
    "mean_old = np.average(Old_Machine)"
   ]
  },
  {
   "cell_type": "code",
   "execution_count": 5,
   "id": "66e63d02",
   "metadata": {},
   "outputs": [],
   "source": [
    "std_dev_new = np.std(New_Machine)\n",
    "std_dev_old = np.std(Old_Machine)"
   ]
  },
  {
   "cell_type": "code",
   "execution_count": 6,
   "id": "a11d6c39",
   "metadata": {},
   "outputs": [
    {
     "name": "stdout",
     "output_type": "stream",
     "text": [
      "Mean of New Machine = 42.14\n",
      "Mean of Old Machine = 43.230000000000004\n",
      "Standard Deviation of New Machine = 0.6483826030978941\n",
      "Standard Deviation of Old Machine = 0.7114070564732956\n"
     ]
    }
   ],
   "source": [
    "print(\"Mean of New Machine =\",mean_new)\n",
    "print(\"Mean of Old Machine =\",mean_old)\n",
    "print(\"Standard Deviation of New Machine =\",std_dev_new)\n",
    "print(\"Standard Deviation of Old Machine =\",std_dev_old)"
   ]
  },
  {
   "cell_type": "markdown",
   "id": "3e79640b",
   "metadata": {},
   "source": [
    "## As we can see, the New Mean != Old Mean.\n",
    "## Now, we have to prove that this difference is significant."
   ]
  },
  {
   "cell_type": "code",
   "execution_count": 12,
   "id": "b6267867",
   "metadata": {},
   "outputs": [
    {
     "name": "stdout",
     "output_type": "stream",
     "text": [
      "The critical value is = 2.10092204024096\n"
     ]
    }
   ],
   "source": [
    "tc = stats.t.ppf(0.975, df=18)\n",
    "print(\"The critical value is =\",tc)"
   ]
  },
  {
   "cell_type": "code",
   "execution_count": 13,
   "id": "37b032db",
   "metadata": {},
   "outputs": [
    {
     "name": "stdout",
     "output_type": "stream",
     "text": [
      "t-score = 3.5809955894645813\n"
     ]
    }
   ],
   "source": [
    "n1 = 10\n",
    "n2 = 10\n",
    "t_score = (mean_old - mean_new) / np.sqrt(np.square(std_dev_old)/n1 + np.square(std_dev_new)/n2 )\n",
    "print(\"t-score =\",t_score)"
   ]
  },
  {
   "cell_type": "markdown",
   "id": "0252c429",
   "metadata": {},
   "source": [
    "**Since t-score > t-critical, the null hypothesis is rejected.**"
   ]
  },
  {
   "cell_type": "markdown",
   "id": "cc75b96a",
   "metadata": {},
   "source": [
    "## Option 2 (using the p-value)"
   ]
  },
  {
   "cell_type": "code",
   "execution_count": 9,
   "id": "1657ca94",
   "metadata": {},
   "outputs": [],
   "source": [
    "New_Machine = [42.1,41,41.3,41.8,42.4,42.8,43.2,42.3,41.8,42.7]\n",
    "Old_Machine = [42.7,43.6,43.8,43.3,42.5,43.5,43.1,41.7,44,44.1]"
   ]
  },
  {
   "cell_type": "code",
   "execution_count": 10,
   "id": "fda8e47e",
   "metadata": {},
   "outputs": [],
   "source": [
    "mean_new = np.average(New_Machine)\n",
    "mean_old = np.average(Old_Machine)\n",
    "std_dev_new = np.std(New_Machine)\n",
    "std_dev_old = np.std(Old_Machine)"
   ]
  },
  {
   "cell_type": "code",
   "execution_count": 11,
   "id": "e7e3fbff",
   "metadata": {},
   "outputs": [
    {
     "name": "stdout",
     "output_type": "stream",
     "text": [
      "t-score = 3.5809955894645813\n"
     ]
    }
   ],
   "source": [
    "n1 = 10\n",
    "n2 = 10\n",
    "t_score = (mean_old - mean_new) / np.sqrt(np.square(std_dev_old)/n1 + np.square(std_dev_new)/n2 )\n",
    "print(\"t-score =\",t_score)"
   ]
  },
  {
   "cell_type": "markdown",
   "id": "dd6329b7",
   "metadata": {},
   "source": [
    "### The p-value of our t-score is: 0.002136 which is < 0.05, so we can reject the null hypotheis."
   ]
  }
 ],
 "metadata": {
  "kernelspec": {
   "display_name": "Python 3 (ipykernel)",
   "language": "python",
   "name": "python3"
  },
  "language_info": {
   "codemirror_mode": {
    "name": "ipython",
    "version": 3
   },
   "file_extension": ".py",
   "mimetype": "text/x-python",
   "name": "python",
   "nbconvert_exporter": "python",
   "pygments_lexer": "ipython3",
   "version": "3.10.9"
  }
 },
 "nbformat": 4,
 "nbformat_minor": 5
}
