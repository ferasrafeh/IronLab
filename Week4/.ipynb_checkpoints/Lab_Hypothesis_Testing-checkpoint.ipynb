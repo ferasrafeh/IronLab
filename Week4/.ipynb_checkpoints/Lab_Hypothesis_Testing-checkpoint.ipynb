{
 "cells": [
  {
   "cell_type": "code",
   "execution_count": 2,
   "id": "55eb25f7",
   "metadata": {},
   "outputs": [],
   "source": [
    "import numpy as np\n",
    "import pandas as pd\n",
    "import scipy.stats as stats\n",
    "import matplotlib.pyplot as plt\n",
    "import seaborn as sns\n",
    "\n",
    "%matplotlib inline"
   ]
  },
  {
   "cell_type": "markdown",
   "id": "91790e8d",
   "metadata": {},
   "source": [
    "# Instructions\n",
    "## It is assumed that the mean systolic blood pressure is μ = 120 mm Hg. In the Honolulu Heart Study, a sample of n = 100 people had an average systolic blood pressure of 130.1 mm Hg with a standard deviation of 21.21 mm Hg. Is the group significantly different (with respect to systolic blood pressure!) from the regular population?\n",
    "\n",
    "### 1. Set up the hypothesis test.\n",
    "### 2. Write down all the steps followed for setting up the test.\n",
    "### 3. Calculate the test statistic by hand and also code it in Python. It should be 4.76190. What decision can you make based on this calculated value?"
   ]
  },
  {
   "cell_type": "markdown",
   "id": "24dc5b74",
   "metadata": {},
   "source": [
    "## Since the standard deviation of the population is not given, hypothesis will be done based on the t-student distribution method. Moreover, we are checking if the changes is significant whether greater or lower, so it is two-tailed."
   ]
  },
  {
   "cell_type": "markdown",
   "id": "876c9058",
   "metadata": {},
   "source": [
    "## Hypothesis Test:\n",
    "\n",
    "### 1. Null Hypothesis (H0): Mean of Honolulu Heart sample is not significantly different from the regular population.     \n",
    "### μ = 120 mm Hg\n",
    "\n",
    "### 2.  H1: Mean of Honolulu Heart sample is significantly different from the regular population. \n",
    "### μ ≠ 120 mm Hg"
   ]
  },
  {
   "cell_type": "code",
   "execution_count": 3,
   "id": "6ee3be12",
   "metadata": {},
   "outputs": [],
   "source": [
    "sample_mean = 130.1\n",
    "pop_mean = 120\n",
    "n = 100\n",
    "sample_std_dev = 21.21"
   ]
  },
  {
   "cell_type": "markdown",
   "id": "50c9830b",
   "metadata": {},
   "source": [
    "Calculating our t-critical"
   ]
  },
  {
   "cell_type": "code",
   "execution_count": 4,
   "id": "4720772e",
   "metadata": {},
   "outputs": [
    {
     "name": "stdout",
     "output_type": "stream",
     "text": [
      "The critical value is = 1.9842169515086827\n"
     ]
    }
   ],
   "source": [
    "tc = stats.t.ppf(0.975, df=99)\n",
    "print(\"The critical value is =\",tc)"
   ]
  },
  {
   "cell_type": "markdown",
   "id": "5ddbb18e",
   "metadata": {},
   "source": [
    "Calculating our t-score"
   ]
  },
  {
   "cell_type": "code",
   "execution_count": 5,
   "id": "0f4a2111",
   "metadata": {},
   "outputs": [
    {
     "name": "stdout",
     "output_type": "stream",
     "text": [
      "Our t score is : 4.761904761904759\n"
     ]
    }
   ],
   "source": [
    "t = ( sample_mean - pop_mean ) / ( sample_std_dev / np.sqrt(100) )\n",
    "print(\"Our t score is :\",t)"
   ]
  },
  {
   "cell_type": "markdown",
   "id": "b18f25ac",
   "metadata": {},
   "source": [
    "### Conclusion: Since t-score > tc, then we can reject our NULL hypothesis. We conclude that there is a significant difference between the sample mean and population mean with respect to systolic blood pressure.\n",
    "\n",
    "\n"
   ]
  },
  {
   "cell_type": "markdown",
   "id": "ad6d3576",
   "metadata": {},
   "source": [
    "Optional\n",
    "In a packing plant, a machine packs cartons with jars. It is supposed that a new machine will pack faster on the average than the machine currently used. To test that hypothesis, the times it takes each machine to pack ten cartons are recorded. The results, in seconds, are shown in the tables in the file Data/machine.txt. Assume that there is sufficient evidence to conduct the t test, does the data provide sufficient evidence to show if one machine is better than the other.\n",
    "Hint: use two sample t-test\n",
    "\n",
    "t= (sample_mean(x1) - sample_mean(x2)) / sqrt(square(s1)/n1 + square(s2)/n2 )"
   ]
  },
  {
   "cell_type": "markdown",
   "id": "74b30d1a",
   "metadata": {},
   "source": [
    "### 1. Null hypothesis(H0): there is no difference between the means of the two machines. Mean New = Mean Old\n",
    "### 2. H1 : Mean New < Mean Old or Mean New > Mean Old"
   ]
  },
  {
   "cell_type": "code",
   "execution_count": 6,
   "id": "179d7124",
   "metadata": {},
   "outputs": [],
   "source": [
    "New_Machine = [42.1,41,41.3,41.8,42.4,42.8,43.2,42.3,41.8,42.7]\n",
    "Old_Machine = [42.7,43.6,43.8,43.3,42.5,43.5,43.1,41.7,44,44.1]"
   ]
  },
  {
   "cell_type": "code",
   "execution_count": 22,
   "id": "7c6c93e1",
   "metadata": {},
   "outputs": [],
   "source": [
    "mean_new = np.average(New_Machine)"
   ]
  },
  {
   "cell_type": "code",
   "execution_count": 27,
   "id": "38e17e2c",
   "metadata": {},
   "outputs": [],
   "source": [
    "mean_old = np.average(Old_Machine)"
   ]
  },
  {
   "cell_type": "code",
   "execution_count": 28,
   "id": "df1f3132",
   "metadata": {},
   "outputs": [],
   "source": [
    "std_dev_new = np.std(New_Machine)\n",
    "std_dev_old = np.std(Old_Machine)"
   ]
  },
  {
   "cell_type": "code",
   "execution_count": 29,
   "id": "16892eff",
   "metadata": {},
   "outputs": [
    {
     "name": "stdout",
     "output_type": "stream",
     "text": [
      "Mean of New Machine = 42.14\n",
      "Mean of Old Machine = 43.230000000000004\n",
      "Standard Deviation of New Machine = 0.6483826030978941\n",
      "Standard Deviation of Old Machine = 0.7114070564732956\n"
     ]
    }
   ],
   "source": [
    "print(\"Mean of New Machine =\",mean_new)\n",
    "print(\"Mean of Old Machine =\",mean_old)\n",
    "print(\"Standard Deviation of New Machine =\",std_dev_new)\n",
    "print(\"Standard Deviation of Old Machine =\",std_dev_old)"
   ]
  },
  {
   "cell_type": "code",
   "execution_count": 16,
   "id": "639145b8",
   "metadata": {},
   "outputs": [
    {
     "name": "stdout",
     "output_type": "stream",
     "text": [
      "The critical value is = 2.10092204024096\n"
     ]
    }
   ],
   "source": [
    "tc = stats.t.ppf(0.975, df=18)\n",
    "print(\"The critical value is =\",tc)"
   ]
  },
  {
   "cell_type": "code",
   "execution_count": 20,
   "id": "a9219476",
   "metadata": {},
   "outputs": [],
   "source": [
    "n1 = 10\n",
    "n2 = 10\n",
    "t= (mean_old - mean_new) / np.sqrt(np.square(std_dev_old)/n1 + np.square(std_dev_new)/n2 )"
   ]
  },
  {
   "cell_type": "code",
   "execution_count": 21,
   "id": "5d42533a",
   "metadata": {},
   "outputs": [
    {
     "data": {
      "text/plain": [
       "3.5809955894645813"
      ]
     },
     "execution_count": 21,
     "metadata": {},
     "output_type": "execute_result"
    }
   ],
   "source": [
    "t"
   ]
  },
  {
   "cell_type": "code",
   "execution_count": 26,
   "id": "51742ef8",
   "metadata": {},
   "outputs": [],
   "source": [
    "import statistics as stat"
   ]
  },
  {
   "cell_type": "markdown",
   "id": "06da093f",
   "metadata": {},
   "source": [
    "**Since t-score > t-critical, the null hypothesis is rejected.**"
   ]
  }
 ],
 "metadata": {
  "kernelspec": {
   "display_name": "Python 3 (ipykernel)",
   "language": "python",
   "name": "python3"
  },
  "language_info": {
   "codemirror_mode": {
    "name": "ipython",
    "version": 3
   },
   "file_extension": ".py",
   "mimetype": "text/x-python",
   "name": "python",
   "nbconvert_exporter": "python",
   "pygments_lexer": "ipython3",
   "version": "3.10.9"
  }
 },
 "nbformat": 4,
 "nbformat_minor": 5
}
